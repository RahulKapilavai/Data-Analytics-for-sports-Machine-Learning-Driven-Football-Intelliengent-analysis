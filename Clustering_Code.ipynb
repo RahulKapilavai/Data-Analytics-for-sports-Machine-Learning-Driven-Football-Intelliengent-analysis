{
  "nbformat": 4,
  "nbformat_minor": 0,
  "metadata": {
    "colab": {
      "provenance": [],
      "include_colab_link": true
    },
    "kernelspec": {
      "name": "python3",
      "display_name": "Python 3"
    },
    "language_info": {
      "name": "python"
    }
  },
  "cells": [
    {
      "cell_type": "markdown",
      "metadata": {
        "id": "view-in-github",
        "colab_type": "text"
      },
      "source": [
        "<a href=\"https://colab.research.google.com/github/RahulKapilavai/Data-Analytics-for-sports-Machine-Learning-Driven-Football-Intelliengent-analysis/blob/main/Clustering_Code.ipynb\" target=\"_parent\"><img src=\"https://colab.research.google.com/assets/colab-badge.svg\" alt=\"Open In Colab\"/></a>"
      ]
    },
    {
      "cell_type": "code",
      "execution_count": 22,
      "metadata": {
        "id": "1gtJwoedc5Wo"
      },
      "outputs": [],
      "source": [
        "import pandas as pd\n",
        "\n",
        "excel_file = 'football_statss.xlsx'\n",
        "sheets = ['Defence', 'kick-off statistics', 'kick-off return', 'RECEIVING', 'Kicking', 'Punting', 'Punt_Return', 'Scoring', 'Rushing']\n",
        "\n",
        "# Load each sheet into a DataFrame within a dictionary\n",
        "dataframes = {sheet: pd.read_excel(excel_file, sheet_name=sheet) for sheet in sheets}\n"
      ]
    },
    {
      "cell_type": "code",
      "source": [
        "# Assuming each DataFrame in `dataframes` has a 'Team' column and numeric statistics\n",
        "for name, df in dataframes.items():\n",
        "    dataframes[name] = df.groupby('Team').mean().reset_index()  # Aggregate by taking the mean\n"
      ],
      "metadata": {
        "id": "te-M2bnPhaWu"
      },
      "execution_count": 23,
      "outputs": []
    },
    {
      "cell_type": "code",
      "source": [
        "# Assume 'dataframes' is a dictionary containing the aggregated DataFrames for each sheet\n",
        "# First, let's aggregate data for each sheet by team and mean of their statistics\n",
        "for sheet_name, df in dataframes.items():\n",
        "    dataframes[sheet_name] = df.groupby('Team', as_index=False).mean()\n",
        "\n",
        "# Initialize the merged DataFrame with the first DataFrame in the dictionary\n",
        "# (This assumes there is at least one sheet, and each sheet has been aggregated)\n",
        "initial_sheet_name = list(dataframes.keys())[0]\n",
        "merged_df = dataframes[initial_sheet_name]\n",
        "\n",
        "# Now, loop through the remaining DataFrames and merge them one by one\n",
        "for sheet_name, df in dataframes.items():\n",
        "    if sheet_name == initial_sheet_name:\n",
        "        continue  # Skip the first sheet since it's already in 'merged_df'\n",
        "\n",
        "    # Merge on 'Team', ensuring we keep all teams present in any of the DataFrames\n",
        "    # Adjust the 'how' parameter based on your specific needs (e.g., 'inner', 'outer')\n",
        "    merged_df = pd.merge(merged_df, df, on='Team', how='outer', suffixes=('', f'_{sheet_name}'))\n",
        "\n",
        "# At this point, 'merged_df' contains merged data from all sheets\n"
      ],
      "metadata": {
        "id": "raMIRj4DWyb-"
      },
      "execution_count": 24,
      "outputs": []
    },
    {
      "cell_type": "code",
      "source": [
        "from sklearn.impute import SimpleImputer\n",
        "from sklearn.preprocessing import StandardScaler\n",
        "import numpy as np\n",
        "\n",
        "# Drop the 'Team' column for clustering as it's categorical (store it if needed later)\n",
        "teams = merged_df['Team']\n",
        "features = merged_df.drop('Team', axis=1)\n",
        "\n",
        "# Impute missing values\n",
        "imputer = SimpleImputer(missing_values=np.nan, strategy='mean')\n",
        "X_imputed = imputer.fit_transform(features)\n",
        "\n",
        "# Standardize the data\n",
        "scaler = StandardScaler()\n",
        "X_scaled = scaler.fit_transform(X_imputed)\n"
      ],
      "metadata": {
        "id": "8qu_bFIGYgKR"
      },
      "execution_count": 27,
      "outputs": []
    },
    {
      "cell_type": "code",
      "source": [
        "from sklearn.cluster import KMeans\n",
        "\n",
        "# Perform K-Means clustering\n",
        "kmeans = KMeans(n_clusters=3, random_state=0)\n",
        "clusters = kmeans.fit_predict(X_scaled)\n",
        "\n",
        "# Add cluster labels back to the original DataFrame (with 'Team')\n",
        "merged_df['Cluster'] = clusters\n"
      ],
      "metadata": {
        "colab": {
          "base_uri": "https://localhost:8080/"
        },
        "id": "ZIWdXbQ1YzVn",
        "outputId": "e25ccfdc-345e-4526-a79c-3d777c5b6455"
      },
      "execution_count": 28,
      "outputs": [
        {
          "output_type": "stream",
          "name": "stderr",
          "text": [
            "/usr/local/lib/python3.10/dist-packages/sklearn/cluster/_kmeans.py:870: FutureWarning: The default value of `n_init` will change from 10 to 'auto' in 1.4. Set the value of `n_init` explicitly to suppress the warning\n",
            "  warnings.warn(\n"
          ]
        }
      ]
    },
    {
      "cell_type": "code",
      "source": [
        "# Convert cluster centers to a DataFrame for easier interpretation\n",
        "cluster_centers = pd.DataFrame(scaler.inverse_transform(kmeans.cluster_centers_), columns=features.columns)\n",
        "\n",
        "print(\"Cluster Centers (Mean Feature Values):\")\n",
        "print(cluster_centers)\n"
      ],
      "metadata": {
        "colab": {
          "base_uri": "https://localhost:8080/"
        },
        "id": "3iU0HQwdZdJ7",
        "outputId": "68ebfd67-691b-42d7-ba7f-1646cdd3d5c2"
      },
      "execution_count": 29,
      "outputs": [
        {
          "output_type": "stream",
          "name": "stdout",
          "text": [
            "Cluster Centers (Mean Feature Values):\n",
            "          Year        Int         Yds        Avg         Lg        TD  \\\n",
            "0  2014.500000  14.000000  184.500000   9.824879  23.375000  2.000000   \n",
            "1  2013.590909  12.698864  175.522727  11.557167  22.864773  1.519318   \n",
            "2  2014.500000   8.375000  125.000000  11.850075  28.250000  0.625000   \n",
            "\n",
            "         Solo         Ast         Tot       Sack  ...  FG_Made_Scoring  \\\n",
            "0  243.750000  150.750000  394.500000  10.125000  ...        21.142857   \n",
            "1  257.688636  139.934091  397.622727   7.433523  ...        14.177822   \n",
            "2  206.000000   77.000000  283.000000   4.312500  ...        14.285714   \n",
            "\n",
            "   FG_Att_Scoring  Year_Rushing         Att         Gain        Loss  \\\n",
            "0       25.428571   2014.500000  497.375000  1346.000000  268.875000   \n",
            "1       18.853147   2013.590909  444.543182  1583.421591  204.147727   \n",
            "2       20.285714   2014.500000  442.375000  1590.875000  227.375000   \n",
            "\n",
            "   Yds_Rushing  Avg_Rushing  Lg_Rushing  TD_Rushing  \n",
            "0  1120.375000     5.964516   39.250000   20.750000  \n",
            "1  1471.434091     5.962188   29.928409   22.295455  \n",
            "2  1378.375000     4.887204   30.375000   16.750000  \n",
            "\n",
            "[3 rows x 74 columns]\n"
          ]
        }
      ]
    },
    {
      "cell_type": "code",
      "source": [
        "# Print out the teams in each cluster\n",
        "for i in range(kmeans.n_clusters):\n",
        "    print(f\"\\nTeams in Cluster {i}:\")\n",
        "    cluster_teams = merged_df[merged_df['Cluster'] == i]['Team']\n",
        "    for team in cluster_teams:\n",
        "        print(team)\n"
      ],
      "metadata": {
        "colab": {
          "base_uri": "https://localhost:8080/"
        },
        "id": "6G2xUsZ0ZC8f",
        "outputId": "bcf3fcce-6908-4ce6-d8a5-5bbde2736d23"
      },
      "execution_count": 30,
      "outputs": [
        {
          "output_type": "stream",
          "name": "stdout",
          "text": [
            "\n",
            "Teams in Cluster 0:\n",
            "UTAH\n",
            "\n",
            "Teams in Cluster 1:\n",
            "ARIZ\n",
            "AZST\n",
            "CAL\n",
            "ORE\n",
            "ORST\n",
            "STAN\n",
            "UCLA\n",
            "USC\n",
            "WASH\n",
            "WSU\n",
            "ALA\n",
            "AUB\n",
            "FLA\n",
            "KY\n",
            "LSU\n",
            "MIZZ\n",
            "MSST\n",
            "SCAR\n",
            "TAMU\n",
            "TENN\n",
            "VAN\n",
            "0\n",
            "\n",
            "Teams in Cluster 2:\n",
            "COL\n"
          ]
        }
      ]
    },
    {
      "cell_type": "code",
      "source": [
        "# Calculate mean statistics for each cluster\n",
        "for i in range(kmeans.n_clusters):\n",
        "    print(f\"\\nCluster {i} Mean Statistics:\")\n",
        "    cluster_mean_stats = merged_df[merged_df['Cluster'] == i].drop(['Team', 'Cluster'], axis=1).mean()\n",
        "    print(cluster_mean_stats)\n"
      ],
      "metadata": {
        "colab": {
          "base_uri": "https://localhost:8080/"
        },
        "id": "YcsgWQNxW9D6",
        "outputId": "5162c874-81a3-4601-e3ad-37c4ad213474"
      },
      "execution_count": 31,
      "outputs": [
        {
          "output_type": "stream",
          "name": "stdout",
          "text": [
            "\n",
            "Cluster 0 Mean Statistics:\n",
            "Year           2014.500000\n",
            "Int              14.000000\n",
            "Yds             184.500000\n",
            "Avg               9.824879\n",
            "Lg               23.375000\n",
            "                  ...     \n",
            "Loss            268.875000\n",
            "Yds_Rushing    1120.375000\n",
            "Avg_Rushing       5.964516\n",
            "Lg_Rushing       39.250000\n",
            "TD_Rushing       20.750000\n",
            "Length: 74, dtype: float64\n",
            "\n",
            "Cluster 1 Mean Statistics:\n",
            "Year           2013.500000\n",
            "Int              12.850000\n",
            "Yds             177.600000\n",
            "Avg              11.629136\n",
            "Lg               22.570000\n",
            "                  ...     \n",
            "Loss            199.750000\n",
            "Yds_Rushing    1493.640000\n",
            "Avg_Rushing       6.015821\n",
            "Lg_Rushing       29.440000\n",
            "TD_Rushing       22.650000\n",
            "Length: 74, dtype: float64\n",
            "\n",
            "Cluster 2 Mean Statistics:\n",
            "Year           2014.500000\n",
            "Int               8.375000\n",
            "Yds             125.000000\n",
            "Avg              11.850075\n",
            "Lg               28.250000\n",
            "                  ...     \n",
            "Loss            227.375000\n",
            "Yds_Rushing    1378.375000\n",
            "Avg_Rushing       4.887204\n",
            "Lg_Rushing       30.375000\n",
            "TD_Rushing       16.750000\n",
            "Length: 74, dtype: float64\n"
          ]
        }
      ]
    },
    {
      "cell_type": "code",
      "source": [
        "from sklearn.decomposition import PCA\n",
        "import matplotlib.pyplot as plt\n",
        "\n",
        "# Reduce data to 2 dimensions for visualization\n",
        "pca = PCA(n_components=2)\n",
        "reduced_data = pca.fit_transform(X_scaled)\n",
        "\n",
        "# Plot the reduced data and color by cluster\n",
        "plt.figure(figsize=(10, 7))\n",
        "for i in range(kmeans.n_clusters):\n",
        "    plt.scatter(reduced_data[merged_df['Cluster'] == i, 0], reduced_data[merged_df['Cluster'] == i, 1], label=f'Cluster {i}')\n",
        "plt.title('Clusters of Teams')\n",
        "plt.xlabel('PCA Component 1')\n",
        "plt.ylabel('PCA Component 2')\n",
        "plt.legend()\n",
        "plt.show()\n"
      ],
      "metadata": {
        "colab": {
          "base_uri": "https://localhost:8080/",
          "height": 641
        },
        "id": "5TW01uEQhct5",
        "outputId": "79f12409-e76e-402d-bdcf-fd63fa85f7f9"
      },
      "execution_count": 32,
      "outputs": [
        {
          "output_type": "display_data",
          "data": {
            "text/plain": [
              "<Figure size 1000x700 with 1 Axes>"
            ],
            "image/png": "[encoded data removed]"
          },
          "metadata": {}
        }
      ]
    },
    {
      "cell_type": "code",
      "source": [
        "# Example: Displaying percentiles for each feature within a cluster\n",
        "for i in range(kmeans.n_clusters):\n",
        "    print(f\"\\nPercentiles for Cluster {i}:\")\n",
        "    cluster_data = merged_df[merged_df['Cluster'] == i].drop(['Team', 'Cluster'], axis=1)\n",
        "    print(cluster_data.describe(percentiles=[.25, .5, .75]))\n"
      ],
      "metadata": {
        "id": "Bctar4xpjRmk",
        "colab": {
          "base_uri": "https://localhost:8080/"
        },
        "outputId": "db6acf8b-155a-4115-ed55-6d7845bf16cd"
      },
      "execution_count": 33,
      "outputs": [
        {
          "output_type": "stream",
          "name": "stdout",
          "text": [
            "\n",
            "Percentiles for Cluster 0:\n",
            "         Year   Int    Yds       Avg      Lg   TD    Solo     Ast    Tot  \\\n",
            "count     1.0   1.0    1.0  1.000000   1.000  1.0    1.00    1.00    1.0   \n",
            "mean   2014.5  14.0  184.5  9.824879  23.375  2.0  243.75  150.75  394.5   \n",
            "std       NaN   NaN    NaN       NaN     NaN  NaN     NaN     NaN    NaN   \n",
            "min    2014.5  14.0  184.5  9.824879  23.375  2.0  243.75  150.75  394.5   \n",
            "25%    2014.5  14.0  184.5  9.824879  23.375  2.0  243.75  150.75  394.5   \n",
            "50%    2014.5  14.0  184.5  9.824879  23.375  2.0  243.75  150.75  394.5   \n",
            "75%    2014.5  14.0  184.5  9.824879  23.375  2.0  243.75  150.75  394.5   \n",
            "max    2014.5  14.0  184.5  9.824879  23.375  2.0  243.75  150.75  394.5   \n",
            "\n",
            "         Sack  ...  FG_Made_Scoring  FG_Att_Scoring  Year_Rushing      Att  \\\n",
            "count   1.000  ...         1.000000        1.000000           1.0    1.000   \n",
            "mean   10.125  ...        21.142857       25.428571        2014.5  497.375   \n",
            "std       NaN  ...              NaN             NaN           NaN      NaN   \n",
            "min    10.125  ...        21.142857       25.428571        2014.5  497.375   \n",
            "25%    10.125  ...        21.142857       25.428571        2014.5  497.375   \n",
            "50%    10.125  ...        21.142857       25.428571        2014.5  497.375   \n",
            "75%    10.125  ...        21.142857       25.428571        2014.5  497.375   \n",
            "max    10.125  ...        21.142857       25.428571        2014.5  497.375   \n",
            "\n",
            "         Gain     Loss  Yds_Rushing  Avg_Rushing  Lg_Rushing  TD_Rushing  \n",
            "count     1.0    1.000        1.000     1.000000        1.00        1.00  \n",
            "mean   1346.0  268.875     1120.375     5.964516       39.25       20.75  \n",
            "std       NaN      NaN          NaN          NaN         NaN         NaN  \n",
            "min    1346.0  268.875     1120.375     5.964516       39.25       20.75  \n",
            "25%    1346.0  268.875     1120.375     5.964516       39.25       20.75  \n",
            "50%    1346.0  268.875     1120.375     5.964516       39.25       20.75  \n",
            "75%    1346.0  268.875     1120.375     5.964516       39.25       20.75  \n",
            "max    1346.0  268.875     1120.375     5.964516       39.25       20.75  \n",
            "\n",
            "[8 rows x 74 columns]\n",
            "\n",
            "Percentiles for Cluster 1:\n",
            "         Year       Int         Yds        Avg         Lg         TD  \\\n",
            "count    10.0  10.00000   10.000000  10.000000  10.000000  10.000000   \n",
            "mean   2013.5  12.85000  177.600000  11.629136  22.570000   1.540000   \n",
            "std       0.0   1.56436   35.442348   1.963798   4.021622   0.359629   \n",
            "min    2013.5  10.40000  125.700000   8.809629  17.900000   1.000000   \n",
            "25%    2013.5  12.07500  164.450000  10.329462  19.975000   1.400000   \n",
            "50%    2013.5  12.55000  171.900000  11.177249  20.450000   1.550000   \n",
            "75%    2013.5  13.45000  183.975000  13.561380  26.250000   1.775000   \n",
            "max    2013.5  16.00000  240.300000  14.212274  28.500000   2.100000   \n",
            "\n",
            "             Solo         Ast         Tot      Sack  ...  FG_Made_Scoring  \\\n",
            "count   10.000000   10.000000   10.000000  10.00000  ...        11.000000   \n",
            "mean   260.970000  142.540000  403.510000   7.45500  ...        13.883117   \n",
            "std     29.666556   22.912985   35.605351   2.76219  ...         5.323348   \n",
            "min    213.100000  111.500000  343.500000   4.60000  ...         0.000000   \n",
            "25%    244.700000  124.150000  390.475000   5.15000  ...        13.142857   \n",
            "50%    258.100000  141.150000  405.550000   7.02500  ...        14.714286   \n",
            "75%    276.075000  162.925000  425.900000   8.46250  ...        16.071429   \n",
            "max    317.000000  174.000000  461.300000  12.45000  ...        21.142857   \n",
            "\n",
            "       FG_Att_Scoring  Year_Rushing         Att         Gain        Loss  \\\n",
            "count       11.000000          10.0   10.000000    10.000000   10.000000   \n",
            "mean        18.519481        2013.5  442.010000  1594.920000  199.750000   \n",
            "std          6.846800           0.0   89.960417   284.100658   70.681685   \n",
            "min          0.000000        2013.5  246.300000  1172.900000   90.100000   \n",
            "25%         18.285714        2013.5  407.575000  1435.275000  153.575000   \n",
            "50%         19.714286        2013.5  469.300000  1558.550000  184.350000   \n",
            "75%         21.285714        2013.5  483.250000  1710.025000  268.475000   \n",
            "max         26.857143        2013.5  581.600000  2188.800000  289.600000   \n",
            "\n",
            "       Yds_Rushing  Avg_Rushing  Lg_Rushing  TD_Rushing  \n",
            "count    10.000000    10.000000   10.000000   10.000000  \n",
            "mean   1493.640000     6.015821   29.440000   22.650000  \n",
            "std     314.064569     0.856287    3.966022    7.436883  \n",
            "min    1082.800000     4.613861   24.200000   10.400000  \n",
            "25%    1311.250000     5.424420   26.900000   19.125000  \n",
            "50%    1456.000000     6.004787   28.900000   22.500000  \n",
            "75%    1663.600000     6.622869   30.850000   25.575000  \n",
            "max    2058.600000     7.421044   36.800000   38.400000  \n",
            "\n",
            "[8 rows x 74 columns]\n",
            "\n",
            "Percentiles for Cluster 2:\n",
            "         Year    Int    Yds        Avg     Lg     TD   Solo   Ast    Tot  \\\n",
            "count     1.0  1.000    1.0   1.000000   1.00  1.000    1.0   1.0    1.0   \n",
            "mean   2014.5  8.375  125.0  11.850075  28.25  0.625  206.0  77.0  283.0   \n",
            "std       NaN    NaN    NaN        NaN    NaN    NaN    NaN   NaN    NaN   \n",
            "min    2014.5  8.375  125.0  11.850075  28.25  0.625  206.0  77.0  283.0   \n",
            "25%    2014.5  8.375  125.0  11.850075  28.25  0.625  206.0  77.0  283.0   \n",
            "50%    2014.5  8.375  125.0  11.850075  28.25  0.625  206.0  77.0  283.0   \n",
            "75%    2014.5  8.375  125.0  11.850075  28.25  0.625  206.0  77.0  283.0   \n",
            "max    2014.5  8.375  125.0  11.850075  28.25  0.625  206.0  77.0  283.0   \n",
            "\n",
            "         Sack  ...  FG_Made_Scoring  FG_Att_Scoring  Year_Rushing      Att  \\\n",
            "count  1.0000  ...         1.000000        1.000000           1.0    1.000   \n",
            "mean   4.3125  ...        14.285714       20.285714        2014.5  442.375   \n",
            "std       NaN  ...              NaN             NaN           NaN      NaN   \n",
            "min    4.3125  ...        14.285714       20.285714        2014.5  442.375   \n",
            "25%    4.3125  ...        14.285714       20.285714        2014.5  442.375   \n",
            "50%    4.3125  ...        14.285714       20.285714        2014.5  442.375   \n",
            "75%    4.3125  ...        14.285714       20.285714        2014.5  442.375   \n",
            "max    4.3125  ...        14.285714       20.285714        2014.5  442.375   \n",
            "\n",
            "           Gain     Loss  Yds_Rushing  Avg_Rushing  Lg_Rushing  TD_Rushing  \n",
            "count     1.000    1.000        1.000     1.000000       1.000        1.00  \n",
            "mean   1590.875  227.375     1378.375     4.887204      30.375       16.75  \n",
            "std         NaN      NaN          NaN          NaN         NaN         NaN  \n",
            "min    1590.875  227.375     1378.375     4.887204      30.375       16.75  \n",
            "25%    1590.875  227.375     1378.375     4.887204      30.375       16.75  \n",
            "50%    1590.875  227.375     1378.375     4.887204      30.375       16.75  \n",
            "75%    1590.875  227.375     1378.375     4.887204      30.375       16.75  \n",
            "max    1590.875  227.375     1378.375     4.887204      30.375       16.75  \n",
            "\n",
            "[8 rows x 74 columns]\n"
          ]
        }
      ]
    },
    {
      "cell_type": "code",
      "source": [
        "# Example: ANOVA test to identify features that differ significantly between clusters\n",
        "from scipy import stats\n",
        "\n",
        "features = merged_df.columns.drop(['Team', 'Cluster'])\n",
        "for feature in features:\n",
        "    data = [merged_df[feature][merged_df['Cluster'] == i] for i in range(kmeans.n_clusters)]\n",
        "    f_val, p_val = stats.f_oneway(*data)\n",
        "    if p_val < 0.05:\n",
        "        print(f\"{feature} differs significantly across clusters (p-value: {p_val})\")\n"
      ],
      "metadata": {
        "id": "SEZyvW6PjG9M"
      },
      "execution_count": 35,
      "outputs": []
    },
    {
      "cell_type": "code",
      "source": [
        "for i in range(kmeans.n_clusters):\n",
        "    print(f\"Cluster {i} Statistics:\")\n",
        "    cluster_data = merged_df[merged_df['Cluster'] == i]\n",
        "    summary_stats = cluster_data.describe()\n",
        "    print(summary_stats, \"\\n\")\n"
      ],
      "metadata": {
        "colab": {
          "base_uri": "https://localhost:8080/"
        },
        "id": "uXqaYwZJjRGW",
        "outputId": "5361d02e-2a4f-49ac-8d9b-6aef4c04c23b"
      },
      "execution_count": 37,
      "outputs": [
        {
          "output_type": "stream",
          "name": "stdout",
          "text": [
            "Cluster 0 Statistics:\n",
            "         Year   Int    Yds       Avg      Lg   TD    Solo     Ast    Tot  \\\n",
            "count     1.0   1.0    1.0  1.000000   1.000  1.0    1.00    1.00    1.0   \n",
            "mean   2014.5  14.0  184.5  9.824879  23.375  2.0  243.75  150.75  394.5   \n",
            "std       NaN   NaN    NaN       NaN     NaN  NaN     NaN     NaN    NaN   \n",
            "min    2014.5  14.0  184.5  9.824879  23.375  2.0  243.75  150.75  394.5   \n",
            "25%    2014.5  14.0  184.5  9.824879  23.375  2.0  243.75  150.75  394.5   \n",
            "50%    2014.5  14.0  184.5  9.824879  23.375  2.0  243.75  150.75  394.5   \n",
            "75%    2014.5  14.0  184.5  9.824879  23.375  2.0  243.75  150.75  394.5   \n",
            "max    2014.5  14.0  184.5  9.824879  23.375  2.0  243.75  150.75  394.5   \n",
            "\n",
            "         Sack  ...  FG_Att_Scoring  Year_Rushing      Att    Gain     Loss  \\\n",
            "count   1.000  ...        1.000000           1.0    1.000     1.0    1.000   \n",
            "mean   10.125  ...       25.428571        2014.5  497.375  1346.0  268.875   \n",
            "std       NaN  ...             NaN           NaN      NaN     NaN      NaN   \n",
            "min    10.125  ...       25.428571        2014.5  497.375  1346.0  268.875   \n",
            "25%    10.125  ...       25.428571        2014.5  497.375  1346.0  268.875   \n",
            "50%    10.125  ...       25.428571        2014.5  497.375  1346.0  268.875   \n",
            "75%    10.125  ...       25.428571        2014.5  497.375  1346.0  268.875   \n",
            "max    10.125  ...       25.428571        2014.5  497.375  1346.0  268.875   \n",
            "\n",
            "       Yds_Rushing  Avg_Rushing  Lg_Rushing  TD_Rushing  Cluster  \n",
            "count        1.000     1.000000        1.00        1.00      1.0  \n",
            "mean      1120.375     5.964516       39.25       20.75      0.0  \n",
            "std            NaN          NaN         NaN         NaN      NaN  \n",
            "min       1120.375     5.964516       39.25       20.75      0.0  \n",
            "25%       1120.375     5.964516       39.25       20.75      0.0  \n",
            "50%       1120.375     5.964516       39.25       20.75      0.0  \n",
            "75%       1120.375     5.964516       39.25       20.75      0.0  \n",
            "max       1120.375     5.964516       39.25       20.75      0.0  \n",
            "\n",
            "[8 rows x 75 columns] \n",
            "\n",
            "Cluster 1 Statistics:\n",
            "         Year       Int         Yds        Avg         Lg         TD  \\\n",
            "count    10.0  10.00000   10.000000  10.000000  10.000000  10.000000   \n",
            "mean   2013.5  12.85000  177.600000  11.629136  22.570000   1.540000   \n",
            "std       0.0   1.56436   35.442348   1.963798   4.021622   0.359629   \n",
            "min    2013.5  10.40000  125.700000   8.809629  17.900000   1.000000   \n",
            "25%    2013.5  12.07500  164.450000  10.329462  19.975000   1.400000   \n",
            "50%    2013.5  12.55000  171.900000  11.177249  20.450000   1.550000   \n",
            "75%    2013.5  13.45000  183.975000  13.561380  26.250000   1.775000   \n",
            "max    2013.5  16.00000  240.300000  14.212274  28.500000   2.100000   \n",
            "\n",
            "             Solo         Ast         Tot      Sack  ...  FG_Att_Scoring  \\\n",
            "count   10.000000   10.000000   10.000000  10.00000  ...       11.000000   \n",
            "mean   260.970000  142.540000  403.510000   7.45500  ...       18.519481   \n",
            "std     29.666556   22.912985   35.605351   2.76219  ...        6.846800   \n",
            "min    213.100000  111.500000  343.500000   4.60000  ...        0.000000   \n",
            "25%    244.700000  124.150000  390.475000   5.15000  ...       18.285714   \n",
            "50%    258.100000  141.150000  405.550000   7.02500  ...       19.714286   \n",
            "75%    276.075000  162.925000  425.900000   8.46250  ...       21.285714   \n",
            "max    317.000000  174.000000  461.300000  12.45000  ...       26.857143   \n",
            "\n",
            "       Year_Rushing         Att         Gain        Loss  Yds_Rushing  \\\n",
            "count          10.0   10.000000    10.000000   10.000000    10.000000   \n",
            "mean         2013.5  442.010000  1594.920000  199.750000  1493.640000   \n",
            "std             0.0   89.960417   284.100658   70.681685   314.064569   \n",
            "min          2013.5  246.300000  1172.900000   90.100000  1082.800000   \n",
            "25%          2013.5  407.575000  1435.275000  153.575000  1311.250000   \n",
            "50%          2013.5  469.300000  1558.550000  184.350000  1456.000000   \n",
            "75%          2013.5  483.250000  1710.025000  268.475000  1663.600000   \n",
            "max          2013.5  581.600000  2188.800000  289.600000  2058.600000   \n",
            "\n",
            "       Avg_Rushing  Lg_Rushing  TD_Rushing  Cluster  \n",
            "count    10.000000   10.000000   10.000000     22.0  \n",
            "mean      6.015821   29.440000   22.650000      1.0  \n",
            "std       0.856287    3.966022    7.436883      0.0  \n",
            "min       4.613861   24.200000   10.400000      1.0  \n",
            "25%       5.424420   26.900000   19.125000      1.0  \n",
            "50%       6.004787   28.900000   22.500000      1.0  \n",
            "75%       6.622869   30.850000   25.575000      1.0  \n",
            "max       7.421044   36.800000   38.400000      1.0  \n",
            "\n",
            "[8 rows x 75 columns] \n",
            "\n",
            "Cluster 2 Statistics:\n",
            "         Year    Int    Yds        Avg     Lg     TD   Solo   Ast    Tot  \\\n",
            "count     1.0  1.000    1.0   1.000000   1.00  1.000    1.0   1.0    1.0   \n",
            "mean   2014.5  8.375  125.0  11.850075  28.25  0.625  206.0  77.0  283.0   \n",
            "std       NaN    NaN    NaN        NaN    NaN    NaN    NaN   NaN    NaN   \n",
            "min    2014.5  8.375  125.0  11.850075  28.25  0.625  206.0  77.0  283.0   \n",
            "25%    2014.5  8.375  125.0  11.850075  28.25  0.625  206.0  77.0  283.0   \n",
            "50%    2014.5  8.375  125.0  11.850075  28.25  0.625  206.0  77.0  283.0   \n",
            "75%    2014.5  8.375  125.0  11.850075  28.25  0.625  206.0  77.0  283.0   \n",
            "max    2014.5  8.375  125.0  11.850075  28.25  0.625  206.0  77.0  283.0   \n",
            "\n",
            "         Sack  ...  FG_Att_Scoring  Year_Rushing      Att      Gain     Loss  \\\n",
            "count  1.0000  ...        1.000000           1.0    1.000     1.000    1.000   \n",
            "mean   4.3125  ...       20.285714        2014.5  442.375  1590.875  227.375   \n",
            "std       NaN  ...             NaN           NaN      NaN       NaN      NaN   \n",
            "min    4.3125  ...       20.285714        2014.5  442.375  1590.875  227.375   \n",
            "25%    4.3125  ...       20.285714        2014.5  442.375  1590.875  227.375   \n",
            "50%    4.3125  ...       20.285714        2014.5  442.375  1590.875  227.375   \n",
            "75%    4.3125  ...       20.285714        2014.5  442.375  1590.875  227.375   \n",
            "max    4.3125  ...       20.285714        2014.5  442.375  1590.875  227.375   \n",
            "\n",
            "       Yds_Rushing  Avg_Rushing  Lg_Rushing  TD_Rushing  Cluster  \n",
            "count        1.000     1.000000       1.000        1.00      1.0  \n",
            "mean      1378.375     4.887204      30.375       16.75      2.0  \n",
            "std            NaN          NaN         NaN         NaN      NaN  \n",
            "min       1378.375     4.887204      30.375       16.75      2.0  \n",
            "25%       1378.375     4.887204      30.375       16.75      2.0  \n",
            "50%       1378.375     4.887204      30.375       16.75      2.0  \n",
            "75%       1378.375     4.887204      30.375       16.75      2.0  \n",
            "max       1378.375     4.887204      30.375       16.75      2.0  \n",
            "\n",
            "[8 rows x 75 columns] \n",
            "\n"
          ]
        }
      ]
    },
    {
      "cell_type": "code",
      "source": [
        "print(merged_df.columns)\n"
      ],
      "metadata": {
        "colab": {
          "base_uri": "https://localhost:8080/"
        },
        "id": "MJsfqWOhkBGO",
        "outputId": "10357067-e746-493d-f788-26f064a14fd8"
      },
      "execution_count": 39,
      "outputs": [
        {
          "output_type": "stream",
          "name": "stdout",
          "text": [
            "Index(['Team', 'Year', 'Int', 'Yds', 'Avg', 'Lg', 'TD', 'Solo', 'Ast', 'Tot',\n",
            "       'Sack', 'YdsL', 'Year_kick-off statistics', 'Num',\n",
            "       'Yds_kick-off statistics', 'Avg_kick-off statistics',\n",
            "       'Lg_kick-off statistics', 'TB', 'OB', 'Ret', 'RYds',\n",
            "       'TD_kick-off statistics', 'Year_kick-off return', 'Num_kick-off return',\n",
            "       'Yds_kick-off return', 'Avg_kick-off return', 'FC',\n",
            "       'Lg_kick-off return', 'TD_kick-off return', 'Year_RECEIVING', 'Rec',\n",
            "       'Yds_RECEIVING', 'Avg_RECEIVING', 'Lg_RECEIVING', 'TD_RECEIVING',\n",
            "       'Year_Kicking', 'PAT_Made', 'PAT_Att', 'FG_Made', 'FG_Att',\n",
            "       'Lg_Kicking', 'Pts', 'Year_Punting', 'Punts', 'Yds_Punting',\n",
            "       'Avg_Punting', 'Lg_Punting', 'TB_Punting', 'In20', 'Blk', 'Net',\n",
            "       'Ret_Punting', 'RYds_Punting', 'Year_Punt_Return', 'Num_Punt_Return',\n",
            "       'Yds_Punt_Return', 'Avg_Punt_Return', 'FC_Punt_Return',\n",
            "       'Lg_Punt_Return', 'TD_Punt_Return', 'Year_Scoring', 'Pts_Scoring',\n",
            "       'Tot_Scoring', 'PAT_Made_Scoring', 'PAT_Att_Scoring', 'FG_Made_Scoring',\n",
            "       'FG_Att_Scoring', 'Year_Rushing', 'Att', 'Gain', 'Loss', 'Yds_Rushing',\n",
            "       'Avg_Rushing', 'Lg_Rushing', 'TD_Rushing', 'Cluster'],\n",
            "      dtype='object')\n"
          ]
        }
      ]
    },
    {
      "cell_type": "code",
      "source": [
        "from scipy.stats import f_oneway\n",
        "\n",
        "# Features to test\n",
        "features_to_test = ['Yds', 'Sack', 'TD']\n",
        "\n",
        "# Perform ANOVA test for each feature and print the results\n",
        "for feature in features_to_test:\n",
        "    f_val, p_val = f_oneway(merged_df[merged_df['Cluster'] == 0][feature],\n",
        "                            merged_df[merged_df['Cluster'] == 1][feature],\n",
        "                            merged_df[merged_df['Cluster'] == 2][feature])\n",
        "    print(f\"ANOVA Test for {feature}: F-Value = {f_val:.3f}, P-Value = {p_val:.3f}\")\n"
      ],
      "metadata": {
        "colab": {
          "base_uri": "https://localhost:8080/"
        },
        "id": "rQEe4jrIj1F6",
        "outputId": "71681c17-ba04-4e33-91c5-ab42fc023217"
      },
      "execution_count": 40,
      "outputs": [
        {
          "output_type": "stream",
          "name": "stdout",
          "text": [
            "ANOVA Test for Yds: F-Value = nan, P-Value = nan\n",
            "ANOVA Test for Sack: F-Value = nan, P-Value = nan\n",
            "ANOVA Test for TD: F-Value = nan, P-Value = nan\n"
          ]
        }
      ]
    },
    {
      "cell_type": "code",
      "source": [
        "from sklearn.impute import SimpleImputer\n",
        "import numpy as np\n",
        "\n",
        "# Create an imputer object for mean imputation\n",
        "imputer = SimpleImputer(missing_values=np.nan, strategy='mean')\n",
        "\n",
        "# Features you want to test\n",
        "features_to_test = ['Yds', 'Sack', 'TD']\n",
        "\n",
        "# Impute NaN values for these features\n",
        "for feature in features_to_test:\n",
        "    merged_df[feature] = imputer.fit_transform(merged_df[[feature]])\n"
      ],
      "metadata": {
        "id": "K5cm5NmPkUjr"
      },
      "execution_count": 41,
      "outputs": []
    },
    {
      "cell_type": "code",
      "source": [
        "from scipy.stats import f_oneway\n",
        "\n",
        "# Perform ANOVA test for each feature and print the results\n",
        "for feature in features_to_test:\n",
        "    f_val, p_val = f_oneway(merged_df[merged_df['Cluster'] == 0][feature],\n",
        "                            merged_df[merged_df['Cluster'] == 1][feature],\n",
        "                            merged_df[merged_df['Cluster'] == 2][feature])\n",
        "    print(f\"ANOVA Test for {feature}: F-Value = {f_val:.3f}, P-Value = {p_val:.3f}\")\n"
      ],
      "metadata": {
        "colab": {
          "base_uri": "https://localhost:8080/"
        },
        "id": "RdOu1XI6kYmF",
        "outputId": "50fbcef5-e81c-4a1d-cdc8-9e62e8f8f94d"
      },
      "execution_count": 42,
      "outputs": [
        {
          "output_type": "stream",
          "name": "stdout",
          "text": [
            "ANOVA Test for Yds: F-Value = 2.362, P-Value = 0.119\n",
            "ANOVA Test for Sack: F-Value = 2.596, P-Value = 0.098\n",
            "ANOVA Test for TD: F-Value = 9.173, P-Value = 0.001\n"
          ]
        }
      ]
    },
    {
      "cell_type": "markdown",
      "source": [
        "### ANOVA Test Results Interpretation:\n",
        "\n",
        "#### **Yards (Yds)**\n",
        "- **F-Value:** 2.362\n",
        "- **P-Value:** 0.119\n",
        "\n",
        "  **Interpretation:** The P-value is greater than 0.05, indicating that there's not enough evidence to conclude that the mean yards gained significantly differ among the clusters. This suggests that the differences observed in yards gained across the clusters could be due to chance.\n",
        "\n",
        "#### **Sacks (Sack)**\n",
        "- **F-Value:** 2.596\n",
        "- **P-Value:** 0.098\n",
        "\n",
        "  **Interpretation:** Similar to yards, the P-value is above the typical alpha level of 0.05, suggesting that the differences in mean sacks among the clusters are not statistically significant. While there might be a trend, it's not strong enough to confirm without doubt.\n",
        "\n",
        "#### **Touchdowns (TD)**\n",
        "- **F-Value:** 9.173\n",
        "- **P-Value:** 0.001\n",
        "\n",
        "  **Interpretation:** Here, the P-value is below 0.05, indicating that the differences in mean touchdowns scored are statistically significant across the clusters. This suggests that touchdowns are a key differentiator among the clusters, with at least one cluster having a significantly different mean value of touchdowns compared to the others.\n",
        "\n",
        "### Strategic Implications and Next Steps:\n",
        "\n",
        "Given these results, touchdowns (TD) emerge as a critical performance metric differentiating the clusters. The significant difference in touchdowns suggests that teams in at least one cluster are scoring touchdowns at a notably different rate than teams in other clusters. This insight can be particularly valuable for identifying successful offensive strategies or player performance traits associated with scoring.\n",
        "\n",
        "### For Tactical Adjustments and Recommendations:\n",
        "\n",
        "- **Focus on Offensive Plays:** Teams looking to improve or alter their cluster grouping might focus on offensive strategies that enhance their ability to score touchdowns.\n",
        "- **Player Training and Recruitment:** Special attention could be given to training offensive players or recruiting players known for their scoring ability, aiming to replicate the successful traits identified in the cluster with significantly higher mean touchdowns.\n",
        "\n",
        "### Continuous Monitoring and Feedback:\n",
        "\n",
        "- **Performance Tracking:** Continuously monitor the touchdown-scoring performance and other key metrics to gauge the effectiveness of any changes implemented.\n",
        "- **Adjust Strategies:** Be prepared to adjust training, play strategies, and recruitment based on ongoing performance data and the evolving competitive landscape.\n"
      ],
      "metadata": {
        "id": "8pFZouTakopd"
      }
    },
    {
      "cell_type": "code",
      "source": [
        "# Assuming 'Pts' is your success metric\n",
        "success_by_cluster = merged_df.groupby('Cluster')['Pts'].mean()\n",
        "print(success_by_cluster.sort_values(ascending=False))\n"
      ],
      "metadata": {
        "colab": {
          "base_uri": "https://localhost:8080/"
        },
        "id": "RfQYlISPmGnn",
        "outputId": "e4d78baa-6759-4816-b191-c8f312cf938c"
      },
      "execution_count": 44,
      "outputs": [
        {
          "output_type": "stream",
          "name": "stdout",
          "text": [
            "Cluster\n",
            "0    104.125\n",
            "1     92.750\n",
            "2     78.875\n",
            "Name: Pts, dtype: float64\n"
          ]
        }
      ]
    },
    {
      "cell_type": "markdown",
      "source": [
        "### Interpretation of the Mean Points by Cluster\n",
        "\n",
        "- **Cluster 0** has the highest mean points with **104.125**. This suggests that teams in Cluster 0 are, on average, the most successful in terms of scoring points. Strategies, tactics, or player attributes prevalent in this cluster might be contributing factors to their higher scoring and could be considered best practices worth emulating or analyzing further.\n",
        "\n",
        "- **Cluster 1** follows with an average of **92.750 points**. While not as high as Cluster 0, teams in this cluster still show substantial scoring capabilities. Understanding the differences between Clusters 0 and 1 could reveal actionable insights into what adjustments might bridge the gap in performance.\n",
        "\n",
        "- **Cluster 2** has the lowest mean points, at **78.875**. This indicates that teams in this cluster, on average, score fewer points than those in the other two clusters. Analyzing the characteristics and tactics of Cluster 2 teams might uncover areas for improvement or factors that are hindering higher scoring.\n",
        "\n",
        "### Strategic Implications and Next Steps\n",
        "\n",
        "- **Analyzing High-Performing Clusters**: Dive deeper into the specific characteristics, player stats, or tactics of Cluster 0 to understand what drives their higher scoring. This could involve more detailed statistical analysis, video analysis of games, or reviewing coaching strategies.\n",
        "\n",
        "- **Bridging the Gap**: For teams in Clusters 1 and 2, identify the most significant differences from Cluster 0 and develop strategies to address these gaps. This might involve training focus adjustments, changes in game strategy, or targeted player recruitment.\n",
        "\n",
        "- **Tailored Training Programs**: Develop training programs that focus on enhancing skills or tactics that are correlated with higher scoring, as identified in the analysis of Cluster 0.\n"
      ],
      "metadata": {
        "id": "ZwL9BCx5msRr"
      }
    },
    {
      "cell_type": "code",
      "source": [
        "import plotly.express as px\n",
        "import pandas as pd\n",
        "\n",
        "# Assuming 'cluster_centers' already contains the mean values of features for each cluster\n",
        "# Let's create a simplified version focusing on selected key features\n",
        "key_features = ['TD', 'Yds', 'Sack', 'Pts']\n",
        "simplified_cluster_centers = cluster_centers[key_features]\n",
        "\n",
        "# Adding cluster labels for clarity in the graph\n",
        "simplified_cluster_centers['Cluster'] = ['Cluster 0', 'Cluster 1', 'Cluster 2']\n",
        "\n",
        "# Melt the DataFrame to make it suitable for a grouped bar chart with Plotly\n",
        "melted_data = pd.melt(simplified_cluster_centers, id_vars=['Cluster'], value_vars=key_features,\n",
        "                      var_name='Feature', value_name='Mean Value')\n",
        "\n",
        "# Create a grouped bar chart\n",
        "fig = px.bar(melted_data, x='Cluster', y='Mean Value', color='Feature', barmode='group',\n",
        "             title=\"Mean Feature Values by Cluster\",\n",
        "             labels={\"Mean Value\": \"Mean Feature Value\"})\n",
        "\n",
        "# Improve layout & aesthetics\n",
        "fig.update_layout(xaxis_title=\"Cluster\",\n",
        "                  yaxis_title=\"Mean Feature Value\",\n",
        "                  legend_title=\"Feature\",\n",
        "                  legend=dict(orientation=\"h\", yanchor=\"bottom\", y=1.02, xanchor=\"right\", x=1))\n",
        "fig.show()\n"
      ],
      "metadata": {
        "colab": {
          "base_uri": "https://localhost:8080/",
          "height": 681
        },
        "id": "ToySUGx6n0nQ",
        "outputId": "afebf3d6-b379-4942-bf80-33faf789c37a"
      },
      "execution_count": 46,
      "outputs": [
        {
          "output_type": "stream",
          "name": "stderr",
          "text": [
            "<ipython-input-46-b217a9380265>:10: SettingWithCopyWarning:\n",
            "\n",
            "\n",
            "A value is trying to be set on a copy of a slice from a DataFrame.\n",
            "Try using .loc[row_indexer,col_indexer] = value instead\n",
            "\n",
            "See the caveats in the documentation: https://pandas.pydata.org/pandas-docs/stable/user_guide/indexing.html#returning-a-view-versus-a-copy\n",
            "\n"
          ]
        },
        {
          "output_type": "display_data",
          "data": {
            "text/html": [
              "<html>\n",
              "<head><meta charset=\"utf-8\" /></head>\n",
              "<body>\n",
              "    <div>            <script src=\"https://cdnjs.cloudflare.com/ajax/libs/mathjax/2.7.5/MathJax.js?config=TeX-AMS-MML_SVG\"></script><script type=\"text/javascript\">if (window.MathJax && window.MathJax.Hub && window.MathJax.Hub.Config) {window.MathJax.Hub.Config({SVG: {font: \"STIX-Web\"}});}</script>                <script type=\"text/javascript\">window.PlotlyConfig = {MathJaxConfig: 'local'};</script>\n",
              "        <script charset=\"utf-8\" src=\"https://cdn.plot.ly/plotly-2.24.1.min.js\"></script>                <div id=\"a194647d-4625-465d-ad88-32e1be8703ca\" class=\"plotly-graph-div\" style=\"height:525px; width:100%;\"></div>            <script type=\"text/javascript\">                                    window.PLOTLYENV=window.PLOTLYENV || {};                                    if (document.getElementById(\"a194647d-4625-465d-ad88-32e1be8703ca\")) {                    Plotly.newPlot(                        \"a194647d-4625-465d-ad88-32e1be8703ca\",                        [{\"alignmentgroup\":\"True\",\"hovertemplate\":\"Feature=TD\\u003cbr\\u003eCluster=%{x}\\u003cbr\\u003eMean Feature Value=%{y}\\u003cextra\\u003e\\u003c\\u002fextra\\u003e\",\"legendgroup\":\"TD\",\"marker\":{\"color\":\"#636efa\",\"pattern\":{\"shape\":\"\"}},\"name\":\"TD\",\"offsetgroup\":\"TD\",\"orientation\":\"v\",\"showlegend\":true,\"textposition\":\"auto\",\"x\":[\"Cluster 0\",\"Cluster 1\",\"Cluster 2\"],\"xaxis\":\"x\",\"y\":[2.0,1.5193181818181818,0.6250000000000001],\"yaxis\":\"y\",\"type\":\"bar\"},{\"alignmentgroup\":\"True\",\"hovertemplate\":\"Feature=Yds\\u003cbr\\u003eCluster=%{x}\\u003cbr\\u003eMean Feature Value=%{y}\\u003cextra\\u003e\\u003c\\u002fextra\\u003e\",\"legendgroup\":\"Yds\",\"marker\":{\"color\":\"#EF553B\",\"pattern\":{\"shape\":\"\"}},\"name\":\"Yds\",\"offsetgroup\":\"Yds\",\"orientation\":\"v\",\"showlegend\":true,\"textposition\":\"auto\",\"x\":[\"Cluster 0\",\"Cluster 1\",\"Cluster 2\"],\"xaxis\":\"x\",\"y\":[184.5,175.52272727272728,125.0],\"yaxis\":\"y\",\"type\":\"bar\"},{\"alignmentgroup\":\"True\",\"hovertemplate\":\"Feature=Sack\\u003cbr\\u003eCluster=%{x}\\u003cbr\\u003eMean Feature Value=%{y}\\u003cextra\\u003e\\u003c\\u002fextra\\u003e\",\"legendgroup\":\"Sack\",\"marker\":{\"color\":\"#00cc96\",\"pattern\":{\"shape\":\"\"}},\"name\":\"Sack\",\"offsetgroup\":\"Sack\",\"orientation\":\"v\",\"showlegend\":true,\"textposition\":\"auto\",\"x\":[\"Cluster 0\",\"Cluster 1\",\"Cluster 2\"],\"xaxis\":\"x\",\"y\":[10.125,7.433522727272728,4.3125],\"yaxis\":\"y\",\"type\":\"bar\"},{\"alignmentgroup\":\"True\",\"hovertemplate\":\"Feature=Pts\\u003cbr\\u003eCluster=%{x}\\u003cbr\\u003eMean Feature Value=%{y}\\u003cextra\\u003e\\u003c\\u002fextra\\u003e\",\"legendgroup\":\"Pts\",\"marker\":{\"color\":\"#ab63fa\",\"pattern\":{\"shape\":\"\"}},\"name\":\"Pts\",\"offsetgroup\":\"Pts\",\"orientation\":\"v\",\"showlegend\":true,\"textposition\":\"auto\",\"x\":[\"Cluster 0\",\"Cluster 1\",\"Cluster 2\"],\"xaxis\":\"x\",\"y\":[104.125,92.63636363636364,78.875],\"yaxis\":\"y\",\"type\":\"bar\"}],                        {\"template\":{\"data\":{\"histogram2dcontour\":[{\"type\":\"histogram2dcontour\",\"colorbar\":{\"outlinewidth\":0,\"ticks\":\"\"},\"colorscale\":[[0.0,\"#0d0887\"],[0.1111111111111111,\"#46039f\"],[0.2222222222222222,\"#7201a8\"],[0.3333333333333333,\"#9c179e\"],[0.4444444444444444,\"#bd3786\"],[0.5555555555555556,\"#d8576b\"],[0.6666666666666666,\"#ed7953\"],[0.7777777777777778,\"#fb9f3a\"],[0.8888888888888888,\"#fdca26\"],[1.0,\"#f0f921\"]]}],\"choropleth\":[{\"type\":\"choropleth\",\"colorbar\":{\"outlinewidth\":0,\"ticks\":\"\"}}],\"histogram2d\":[{\"type\":\"histogram2d\",\"colorbar\":{\"outlinewidth\":0,\"ticks\":\"\"},\"colorscale\":[[0.0,\"#0d0887\"],[0.1111111111111111,\"#46039f\"],[0.2222222222222222,\"#7201a8\"],[0.3333333333333333,\"#9c179e\"],[0.4444444444444444,\"#bd3786\"],[0.5555555555555556,\"#d8576b\"],[0.6666666666666666,\"#ed7953\"],[0.7777777777777778,\"#fb9f3a\"],[0.8888888888888888,\"#fdca26\"],[1.0,\"#f0f921\"]]}],\"heatmap\":[{\"type\":\"heatmap\",\"colorbar\":{\"outlinewidth\":0,\"ticks\":\"\"},\"colorscale\":[[0.0,\"#0d0887\"],[0.1111111111111111,\"#46039f\"],[0.2222222222222222,\"#7201a8\"],[0.3333333333333333,\"#9c179e\"],[0.4444444444444444,\"#bd3786\"],[0.5555555555555556,\"#d8576b\"],[0.6666666666666666,\"#ed7953\"],[0.7777777777777778,\"#fb9f3a\"],[0.8888888888888888,\"#fdca26\"],[1.0,\"#f0f921\"]]}],\"heatmapgl\":[{\"type\":\"heatmapgl\",\"colorbar\":{\"outlinewidth\":0,\"ticks\":\"\"},\"colorscale\":[[0.0,\"#0d0887\"],[0.1111111111111111,\"#46039f\"],[0.2222222222222222,\"#7201a8\"],[0.3333333333333333,\"#9c179e\"],[0.4444444444444444,\"#bd3786\"],[0.5555555555555556,\"#d8576b\"],[0.6666666666666666,\"#ed7953\"],[0.7777777777777778,\"#fb9f3a\"],[0.8888888888888888,\"#fdca26\"],[1.0,\"#f0f921\"]]}],\"contourcarpet\":[{\"type\":\"contourcarpet\",\"colorbar\":{\"outlinewidth\":0,\"ticks\":\"\"}}],\"contour\":[{\"type\":\"contour\",\"colorbar\":{\"outlinewidth\":0,\"ticks\":\"\"},\"colorscale\":[[0.0,\"#0d0887\"],[0.1111111111111111,\"#46039f\"],[0.2222222222222222,\"#7201a8\"],[0.3333333333333333,\"#9c179e\"],[0.4444444444444444,\"#bd3786\"],[0.5555555555555556,\"#d8576b\"],[0.6666666666666666,\"#ed7953\"],[0.7777777777777778,\"#fb9f3a\"],[0.8888888888888888,\"#fdca26\"],[1.0,\"#f0f921\"]]}],\"surface\":[{\"type\":\"surface\",\"colorbar\":{\"outlinewidth\":0,\"ticks\":\"\"},\"colorscale\":[[0.0,\"#0d0887\"],[0.1111111111111111,\"#46039f\"],[0.2222222222222222,\"#7201a8\"],[0.3333333333333333,\"#9c179e\"],[0.4444444444444444,\"#bd3786\"],[0.5555555555555556,\"#d8576b\"],[0.6666666666666666,\"#ed7953\"],[0.7777777777777778,\"#fb9f3a\"],[0.8888888888888888,\"#fdca26\"],[1.0,\"#f0f921\"]]}],\"mesh3d\":[{\"type\":\"mesh3d\",\"colorbar\":{\"outlinewidth\":0,\"ticks\":\"\"}}],\"scatter\":[{\"fillpattern\":{\"fillmode\":\"overlay\",\"size\":10,\"solidity\":0.2},\"type\":\"scatter\"}],\"parcoords\":[{\"type\":\"parcoords\",\"line\":{\"colorbar\":{\"outlinewidth\":0,\"ticks\":\"\"}}}],\"scatterpolargl\":[{\"type\":\"scatterpolargl\",\"marker\":{\"colorbar\":{\"outlinewidth\":0,\"ticks\":\"\"}}}],\"bar\":[{\"error_x\":{\"color\":\"#2a3f5f\"},\"error_y\":{\"color\":\"#2a3f5f\"},\"marker\":{\"line\":{\"color\":\"#E5ECF6\",\"width\":0.5},\"pattern\":{\"fillmode\":\"overlay\",\"size\":10,\"solidity\":0.2}},\"type\":\"bar\"}],\"scattergeo\":[{\"type\":\"scattergeo\",\"marker\":{\"colorbar\":{\"outlinewidth\":0,\"ticks\":\"\"}}}],\"scatterpolar\":[{\"type\":\"scatterpolar\",\"marker\":{\"colorbar\":{\"outlinewidth\":0,\"ticks\":\"\"}}}],\"histogram\":[{\"marker\":{\"pattern\":{\"fillmode\":\"overlay\",\"size\":10,\"solidity\":0.2}},\"type\":\"histogram\"}],\"scattergl\":[{\"type\":\"scattergl\",\"marker\":{\"colorbar\":{\"outlinewidth\":0,\"ticks\":\"\"}}}],\"scatter3d\":[{\"type\":\"scatter3d\",\"line\":{\"colorbar\":{\"outlinewidth\":0,\"ticks\":\"\"}},\"marker\":{\"colorbar\":{\"outlinewidth\":0,\"ticks\":\"\"}}}],\"scattermapbox\":[{\"type\":\"scattermapbox\",\"marker\":{\"colorbar\":{\"outlinewidth\":0,\"ticks\":\"\"}}}],\"scatterternary\":[{\"type\":\"scatterternary\",\"marker\":{\"colorbar\":{\"outlinewidth\":0,\"ticks\":\"\"}}}],\"scattercarpet\":[{\"type\":\"scattercarpet\",\"marker\":{\"colorbar\":{\"outlinewidth\":0,\"ticks\":\"\"}}}],\"carpet\":[{\"aaxis\":{\"endlinecolor\":\"#2a3f5f\",\"gridcolor\":\"white\",\"linecolor\":\"white\",\"minorgridcolor\":\"white\",\"startlinecolor\":\"#2a3f5f\"},\"baxis\":{\"endlinecolor\":\"#2a3f5f\",\"gridcolor\":\"white\",\"linecolor\":\"white\",\"minorgridcolor\":\"white\",\"startlinecolor\":\"#2a3f5f\"},\"type\":\"carpet\"}],\"table\":[{\"cells\":{\"fill\":{\"color\":\"#EBF0F8\"},\"line\":{\"color\":\"white\"}},\"header\":{\"fill\":{\"color\":\"#C8D4E3\"},\"line\":{\"color\":\"white\"}},\"type\":\"table\"}],\"barpolar\":[{\"marker\":{\"line\":{\"color\":\"#E5ECF6\",\"width\":0.5},\"pattern\":{\"fillmode\":\"overlay\",\"size\":10,\"solidity\":0.2}},\"type\":\"barpolar\"}],\"pie\":[{\"automargin\":true,\"type\":\"pie\"}]},\"layout\":{\"autotypenumbers\":\"strict\",\"colorway\":[\"#636efa\",\"#EF553B\",\"#00cc96\",\"#ab63fa\",\"#FFA15A\",\"#19d3f3\",\"#FF6692\",\"#B6E880\",\"#FF97FF\",\"#FECB52\"],\"font\":{\"color\":\"#2a3f5f\"},\"hovermode\":\"closest\",\"hoverlabel\":{\"align\":\"left\"},\"paper_bgcolor\":\"white\",\"plot_bgcolor\":\"#E5ECF6\",\"polar\":{\"bgcolor\":\"#E5ECF6\",\"angularaxis\":{\"gridcolor\":\"white\",\"linecolor\":\"white\",\"ticks\":\"\"},\"radialaxis\":{\"gridcolor\":\"white\",\"linecolor\":\"white\",\"ticks\":\"\"}},\"ternary\":{\"bgcolor\":\"#E5ECF6\",\"aaxis\":{\"gridcolor\":\"white\",\"linecolor\":\"white\",\"ticks\":\"\"},\"baxis\":{\"gridcolor\":\"white\",\"linecolor\":\"white\",\"ticks\":\"\"},\"caxis\":{\"gridcolor\":\"white\",\"linecolor\":\"white\",\"ticks\":\"\"}},\"coloraxis\":{\"colorbar\":{\"outlinewidth\":0,\"ticks\":\"\"}},\"colorscale\":{\"sequential\":[[0.0,\"#0d0887\"],[0.1111111111111111,\"#46039f\"],[0.2222222222222222,\"#7201a8\"],[0.3333333333333333,\"#9c179e\"],[0.4444444444444444,\"#bd3786\"],[0.5555555555555556,\"#d8576b\"],[0.6666666666666666,\"#ed7953\"],[0.7777777777777778,\"#fb9f3a\"],[0.8888888888888888,\"#fdca26\"],[1.0,\"#f0f921\"]],\"sequentialminus\":[[0.0,\"#0d0887\"],[0.1111111111111111,\"#46039f\"],[0.2222222222222222,\"#7201a8\"],[0.3333333333333333,\"#9c179e\"],[0.4444444444444444,\"#bd3786\"],[0.5555555555555556,\"#d8576b\"],[0.6666666666666666,\"#ed7953\"],[0.7777777777777778,\"#fb9f3a\"],[0.8888888888888888,\"#fdca26\"],[1.0,\"#f0f921\"]],\"diverging\":[[0,\"#8e0152\"],[0.1,\"#c51b7d\"],[0.2,\"#de77ae\"],[0.3,\"#f1b6da\"],[0.4,\"#fde0ef\"],[0.5,\"#f7f7f7\"],[0.6,\"#e6f5d0\"],[0.7,\"#b8e186\"],[0.8,\"#7fbc41\"],[0.9,\"#4d9221\"],[1,\"#276419\"]]},\"xaxis\":{\"gridcolor\":\"white\",\"linecolor\":\"white\",\"ticks\":\"\",\"title\":{\"standoff\":15},\"zerolinecolor\":\"white\",\"automargin\":true,\"zerolinewidth\":2},\"yaxis\":{\"gridcolor\":\"white\",\"linecolor\":\"white\",\"ticks\":\"\",\"title\":{\"standoff\":15},\"zerolinecolor\":\"white\",\"automargin\":true,\"zerolinewidth\":2},\"scene\":{\"xaxis\":{\"backgroundcolor\":\"#E5ECF6\",\"gridcolor\":\"white\",\"linecolor\":\"white\",\"showbackground\":true,\"ticks\":\"\",\"zerolinecolor\":\"white\",\"gridwidth\":2},\"yaxis\":{\"backgroundcolor\":\"#E5ECF6\",\"gridcolor\":\"white\",\"linecolor\":\"white\",\"showbackground\":true,\"ticks\":\"\",\"zerolinecolor\":\"white\",\"gridwidth\":2},\"zaxis\":{\"backgroundcolor\":\"#E5ECF6\",\"gridcolor\":\"white\",\"linecolor\":\"white\",\"showbackground\":true,\"ticks\":\"\",\"zerolinecolor\":\"white\",\"gridwidth\":2}},\"shapedefaults\":{\"line\":{\"color\":\"#2a3f5f\"}},\"annotationdefaults\":{\"arrowcolor\":\"#2a3f5f\",\"arrowhead\":0,\"arrowwidth\":1},\"geo\":{\"bgcolor\":\"white\",\"landcolor\":\"#E5ECF6\",\"subunitcolor\":\"white\",\"showland\":true,\"showlakes\":true,\"lakecolor\":\"white\"},\"title\":{\"x\":0.05},\"mapbox\":{\"style\":\"light\"}}},\"xaxis\":{\"anchor\":\"y\",\"domain\":[0.0,1.0],\"title\":{\"text\":\"Cluster\"}},\"yaxis\":{\"anchor\":\"x\",\"domain\":[0.0,1.0],\"title\":{\"text\":\"Mean Feature Value\"}},\"legend\":{\"title\":{\"text\":\"Feature\"},\"tracegroupgap\":0,\"orientation\":\"h\",\"yanchor\":\"bottom\",\"y\":1.02,\"xanchor\":\"right\",\"x\":1},\"title\":{\"text\":\"Mean Feature Values by Cluster\"},\"barmode\":\"group\"},                        {\"responsive\": true}                    ).then(function(){\n",
              "                            \n",
              "var gd = document.getElementById('a194647d-4625-465d-ad88-32e1be8703ca');\n",
              "var x = new MutationObserver(function (mutations, observer) {{\n",
              "        var display = window.getComputedStyle(gd).display;\n",
              "        if (!display || display === 'none') {{\n",
              "            console.log([gd, 'removed!']);\n",
              "            Plotly.purge(gd);\n",
              "            observer.disconnect();\n",
              "        }}\n",
              "}});\n",
              "\n",
              "// Listen for the removal of the full notebook cells\n",
              "var notebookContainer = gd.closest('#notebook-container');\n",
              "if (notebookContainer) {{\n",
              "    x.observe(notebookContainer, {childList: true});\n",
              "}}\n",
              "\n",
              "// Listen for the clearing of the current output cell\n",
              "var outputEl = gd.closest('.output');\n",
              "if (outputEl) {{\n",
              "    x.observe(outputEl, {childList: true});\n",
              "}}\n",
              "\n",
              "                        })                };                            </script>        </div>\n",
              "</body>\n",
              "</html>"
            ]
          },
          "metadata": {}
        }
      ]
    },
    {
      "cell_type": "markdown",
      "source": [
        "# **Graph Overview**\n",
        "\n",
        "The graph is a grouped bar chart with the following characteristics:\n",
        "\n",
        "- **X-axis (Clusters):** Represents different clusters, likely derived from a clustering algorithm like K-Means. Each cluster is a grouping of teams based on similarities across various statistical measures. The clusters are labeled (e.g., Cluster 0, Cluster 1, Cluster 2), indicating distinct groupings identified in the analysis.\n",
        "\n",
        "- **Y-axis (Mean Feature Value):** Shows the average value of the selected key features (Touchdowns, Yards Gained, Sacks, Points) for teams within each cluster. These mean values are indicative of the performance characteristics that differentiate the clusters.\n",
        "\n",
        "- **Bars:** Each cluster has a set of bars, with each bar representing one of the key features. The height of a bar corresponds to the mean value of that feature within the cluster.\n",
        "\n",
        "- **Colors:** Bars are color-coded by feature to easily distinguish between the different statistical measures (e.g., a specific color for Touchdowns, another for Yards Gained, etc.).\n",
        "\n",
        "# **Interpreting the Graph**\n",
        "\n",
        "- **Comparing Clusters on Key Metrics:** The graph allows for a straightforward comparison of how each cluster performs on average across the selected key metrics. For example, a cluster with notably higher bars for Touchdowns and Points might be characterized by strong offensive performance.\n",
        "\n",
        "- **Identifying Strengths and Weaknesses:** By examining the height of bars for different features within a cluster, one can identify areas of strength and potential weaknesses. A cluster with high Sacks but lower Yards Gained might indicate teams with strong defensive capabilities but less effective offense.\n",
        "\n",
        "- **Strategic Insights:** The visualization aids in translating statistical analysis into actionable insights. For instance, if Cluster 0 has the highest average Points, strategies and practices common among teams in this cluster could serve as models for teams aiming to enhance their scoring capabilities.\n"
      ],
      "metadata": {
        "id": "cV7sayL-oavy"
      }
    }
  ]
}