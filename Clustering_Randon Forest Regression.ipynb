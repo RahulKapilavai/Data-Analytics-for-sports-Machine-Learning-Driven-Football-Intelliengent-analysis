{
  "nbformat": 4,
  "nbformat_minor": 0,
  "metadata": {
    "colab": {
      "provenance": [],
      "include_colab_link": true
    },
    "kernelspec": {
      "name": "python3",
      "display_name": "Python 3"
    },
    "language_info": {
      "name": "python"
    }
  },
  "cells": [
    {
      "cell_type": "markdown",
      "metadata": {
        "id": "view-in-github",
        "colab_type": "text"
      },
      "source": [
        "<a href=\"https://colab.research.google.com/github/RahulKapilavai/Data-Analytics-for-sports-Machine-Learning-Driven-Football-Intelliengent-analysis/blob/main/Clustering_Randon%20Forest%20Regression.ipynb\" target=\"_parent\"><img src=\"https://colab.research.google.com/assets/colab-badge.svg\" alt=\"Open In Colab\"/></a>"
      ]
    },
    {
      "cell_type": "markdown",
      "source": [
        "### Loading Excel Sheets into Pandas DataFrames\n",
        "\n",
        "- **Import the pandas library**: This is a preliminary step where the pandas library, a cornerstone for data manipulation and analysis in Python, is imported.\n",
        "\n",
        "- **Specify the Excel file**: An Excel file named 'football_statss.xlsx' is identified as the source of the data. This file contains multiple sheets, each holding different sets of football statistics.\n",
        "\n",
        "- **Define the sheets**: A list of sheet names is defined, encompassing a wide range of football statistics such as Defence, kick-off statistics, RECEIVING, and more. These names correspond to the actual sheet names within the Excel file.\n",
        "\n",
        "- **Load each sheet into a DataFrame within a dictionary**: Using a dictionary comprehension, each sheet specified in the list is loaded into its own pandas DataFrame. This is achieved by calling the `pd.read_excel` function for each sheet name. The resulting DataFrames are stored in a dictionary named `dataframes`, where each key-value pair corresponds to a sheet name and its associated DataFrame, respectively.\n",
        "\n",
        "This approach efficiently organizes data from multiple sheets into separate DataFrames, facilitating easy access and manipulation of specific categories of football statistics for analysis.\n"
      ],
      "metadata": {
        "id": "0iR4NL7MunhP"
      }
    },
    {
      "cell_type": "code",
      "execution_count": 22,
      "metadata": {
        "id": "1gtJwoedc5Wo"
      },
      "outputs": [],
      "source": [
        "import pandas as pd\n",
        "\n",
        "excel_file = 'football_statss.xlsx'\n",
        "sheets = ['Defence', 'kick-off statistics', 'kick-off return', 'RECEIVING', 'Kicking', 'Punting', 'Punt_Return', 'Scoring', 'Rushing']\n",
        "\n",
        "# Load each sheet into a DataFrame within a dictionary\n",
        "dataframes = {sheet: pd.read_excel(excel_file, sheet_name=sheet) for sheet in sheets}\n"
      ]
    },
    {
      "cell_type": "markdown",
      "source": [
        "# Aggregating DataFrames by Team\n",
        "This section of the code iterates through each DataFrame stored within the dataframes dictionary. The objective is to aggregate the data by the 'Team' column. Here's a step-by-step breakdown:\n",
        "\n",
        "Iterates Through DataFrames: For each DataFrame associated with a specific sheet (e.g., Defence, Kicking), the code processes the DataFrame to aggregate the data.\n",
        "\n",
        "Aggregation Operation: The aggregation computes the mean of all numeric statistics for each team. This operation groups the data by the 'Team' column, ensuring that each team's statistics are averaged across all entries.\n",
        "\n",
        "Reset Index: After aggregation, .reset_index() is applied to maintain a clean DataFrame structure. This step ensures that the 'Team' column remains as a regular column and not as the DataFrame index, facilitating easier data manipulation and access.\n",
        "\n",
        "Update the Original Dictionary: The original dataframes dictionary is updated with the aggregated DataFrame for each sheet. This means that after this operation, each DataFrame within dataframes represents average statistics for each team across the corresponding football statistics category.\n",
        "\n",
        "This process simplifies the data by reducing multiple entries per team to a single entry, reflecting the average performance metrics for each team. It's particularly useful for analyses where a consolidated view of each team's performance is required.\n",
        "\n"
      ],
      "metadata": {
        "id": "ENDl97hqvRzB"
      }
    },
    {
      "cell_type": "code",
      "source": [
        "# Assuming each DataFrame in `dataframes` has a 'Team' column and numeric statistics\n",
        "for name, df in dataframes.items():\n",
        "    dataframes[name] = df.groupby('Team').mean().reset_index()  # Aggregate by taking the mean\n"
      ],
      "metadata": {
        "id": "te-M2bnPhaWu"
      },
      "execution_count": 23,
      "outputs": []
    },
    {
      "cell_type": "markdown",
      "source": [
        "Data Aggregation and Merging Process\n",
        "This section details the systematic approach to aggregate and merge data from multiple Excel sheets into a single comprehensive DataFrame, merged_df. This process is pivotal for preparing the dataset for insightful analysis.\n",
        "\n",
        "1. Aggregating Data:\n",
        "Initially, the data within each sheet is aggregated by the 'Team' column. This aggregation involves computing the mean of all numeric statistics for each team, offering a summarized view of each team's performance over multiple games or seasons.\n",
        "2. Initializing the Merged DataFrame:\n",
        "To commence the merging process, we initialize the merged_df with data from the first sheet in the dataframes dictionary. This initial step presupposes that aggregation, as mentioned earlier, has been applied to each DataFrame corresponding to an Excel sheet.\n",
        "3. Merging DataFrames:\n",
        "The core of this process involves iteratively merging each DataFrame in the dataframes dictionary into the merged_df. This merge operation is conducted on the 'Team' column, ensuring a comprehensive dataset that encapsulates all teams present across any of the DataFrames.\n",
        "\n",
        "The merge function's how parameter is adjustable to fit specific requirements. Utilizing how='outer' guarantees the inclusion of all teams, notwithstanding their absence in certain sheets, whereas how='inner' would constrain the dataset to teams appearing in every sheet.\n",
        "\n",
        "In cases of overlapping column names, except for the 'Team' column, suffixes are appended to distinguish between analogous statistics originating from distinct sheets.\n",
        "\n",
        "Outcome:\n",
        "The culmination of this meticulously executed process is the merged_df, a DataFrame amalgamating aggregated data from all the specified sheets. This enriched dataset stands ready for subsequent analytical endeavors, presenting a unified perspective on team performance metrics across various football facets."
      ],
      "metadata": {
        "id": "neOo46LyvrhB"
      }
    },
    {
      "cell_type": "code",
      "source": [
        "# Assume 'dataframes' is a dictionary containing the aggregated DataFrames for each sheet\n",
        "# First, let's aggregate data for each sheet by team and mean of their statistics\n",
        "for sheet_name, df in dataframes.items():\n",
        "    dataframes[sheet_name] = df.groupby('Team', as_index=False).mean()\n",
        "\n",
        "# Initialize the merged DataFrame with the first DataFrame in the dictionary\n",
        "# (This assumes there is at least one sheet, and each sheet has been aggregated)\n",
        "initial_sheet_name = list(dataframes.keys())[0]\n",
        "merged_df = dataframes[initial_sheet_name]\n",
        "\n",
        "# Now, loop through the remaining DataFrames and merge them one by one\n",
        "for sheet_name, df in dataframes.items():\n",
        "    if sheet_name == initial_sheet_name:\n",
        "        continue  # Skip the first sheet since it's already in 'merged_df'\n",
        "\n",
        "    # Merge on 'Team', ensuring we keep all teams present in any of the DataFrames\n",
        "    # Adjust the 'how' parameter based on your specific needs (e.g., 'inner', 'outer')\n",
        "    merged_df = pd.merge(merged_df, df, on='Team', how='outer', suffixes=('', f'_{sheet_name}'))\n",
        "\n",
        "# At this point, 'merged_df' contains merged data from all sheets\n"
      ],
      "metadata": {
        "id": "raMIRj4DWyb-"
      },
      "execution_count": 24,
      "outputs": []
    },
    {
      "cell_type": "markdown",
      "source": [
        "**Preparing Data for Clustering**\n",
        "\n",
        "\n",
        "---\n",
        "\n",
        "\n",
        "\n",
        "\n",
        "As we gear up for the clustering analysis, the dataset undergoes a crucial preparatory phase. This phase ensures that the data meets the analytical requirements, facilitating an accurate and insightful exploration of football team performances.\n",
        "\n",
        "Dropping Categorical Data\n",
        "Initially, we separate the categorical data from our dataset. The 'Team' column, which categorizes data by football teams, is set aside. This step is fundamental since clustering algorithms predominantly operate on numerical data, ensuring our dataset is primed for such analysis.\n",
        "\n",
        "Imputing Missing Values\n",
        "Handling missing values is our next step, crucial for maintaining the integrity and continuity of the dataset. A strategy is employed to fill these gaps with the mean of the corresponding feature across the dataset. This method ensures that our dataset is complete, with no missing entries that could otherwise skew the clustering analysis.\n",
        "\n",
        "Standardizing the Data\n",
        "To ensure each feature contributes equally to the clustering process, we standardize the dataset. This standardization adjusts the features to have a mean of zero and a standard deviation of one. It's a critical step for distance-based clustering algorithms, where the scale of data points could significantly influence the outcome.\n",
        "\n",
        "Outcome\n",
        "Through meticulous data preparation, including the segregation of categorical data, imputation of missing values, and data standardization, we lay down a solid foundation for our clustering analysis. This groundwork is pivotal for achieving reliable and meaningful insights into the dynamics and performance metrics of football teams."
      ],
      "metadata": {
        "id": "n5HvJu40wep9"
      }
    },
    {
      "cell_type": "code",
      "source": [
        "from sklearn.impute import SimpleImputer\n",
        "from sklearn.preprocessing import StandardScaler\n",
        "import numpy as np\n",
        "\n",
        "# Drop the 'Team' column for clustering as it's categorical (store it if needed later)\n",
        "teams = merged_df['Team']\n",
        "features = merged_df.drop('Team', axis=1)\n",
        "\n",
        "# Impute missing values\n",
        "imputer = SimpleImputer(missing_values=np.nan, strategy='mean')\n",
        "X_imputed = imputer.fit_transform(features)\n",
        "\n",
        "# Standardize the data\n",
        "scaler = StandardScaler()\n",
        "X_scaled = scaler.fit_transform(X_imputed)\n"
      ],
      "metadata": {
        "id": "8qu_bFIGYgKR"
      },
      "execution_count": 27,
      "outputs": []
    },
    {
      "cell_type": "markdown",
      "source": [
        "**Performing K-Means Clustering**\n",
        "\n",
        "After the rigorous preparation of our dataset, we proceed with the core of our analysis - **K-Means clustering**. This unsupervised machine learning technique will help us uncover patterns and groupings within the football teams based on their performance metrics.\n",
        "\n",
        "- **K-Means Clustering Execution**: We deploy the K-Means algorithm, specifying the number of clusters as 3. This choice is driven by preliminary insights or specific analytical objectives. The `random_state` parameter ensures reproducibility of our results.\n",
        "\n",
        "- **Cluster Assignment**: Each team in our dataset is assigned to one of the three clusters based on their statistics. This step is pivotal in categorizing teams with similar performance traits.\n",
        "\n",
        "- **Integrating Cluster Labels**: Finally, the cluster labels generated by our model are integrated back into the original DataFrame. This inclusion allows us to analyze and interpret our clusters in the context of the teams' identities and other non-numerical data previously set aside.\n",
        "\n",
        "With our clusters defined, we can delve deeper into the characteristics that differentiate them, drawing strategic insights that could inform decision-making processes for teams and coaches.\n"
      ],
      "metadata": {
        "id": "6ndPEguyw65h"
      }
    },
    {
      "cell_type": "code",
      "source": [
        "from sklearn.cluster import KMeans\n",
        "\n",
        "# Perform K-Means clustering\n",
        "kmeans = KMeans(n_clusters=3, random_state=0)\n",
        "clusters = kmeans.fit_predict(X_scaled)\n",
        "\n",
        "# Add cluster labels back to the original DataFrame (with 'Team')\n",
        "merged_df['Cluster'] = clusters\n"
      ],
      "metadata": {
        "id": "ZIWdXbQ1YzVn"
      },
      "execution_count": null,
      "outputs": []
    },
    {
      "cell_type": "markdown",
      "source": [
        "**Performing K-Means Clustering**\n",
        "\n",
        "After preparing our data by handling categorical variables, imputing missing values, and standardizing the features, we're now ready to apply the K-Means clustering algorithm. This method will partition our dataset into 3 clusters based on the similarity of data points. Following the clustering, each team will be assigned a cluster label, which we'll then add back to our original DataFrame for further analysis.\n",
        "\n",
        "**Converting Cluster Centers to a DataFrame**\n",
        "\n",
        "The centroids of the clusters, representing the mean feature values for each cluster, are crucial for understanding the characteristics that define each group. We convert these centroids back into a DataFrame, using the original feature names as column headers. This transformation facilitates a clearer interpretation of what each cluster represents in terms of team performance metrics.\n",
        "\n",
        "\n",
        "\n",
        "\n"
      ],
      "metadata": {
        "id": "uXg91UtAyb86"
      }
    },
    {
      "cell_type": "code",
      "source": [
        "# Convert cluster centers to a DataFrame for easier interpretation\n",
        "cluster_centers = pd.DataFrame(scaler.inverse_transform(kmeans.cluster_centers_), columns=features.columns)\n",
        "\n",
        "print(\"Cluster Centers (Mean Feature Values):\")\n",
        "print(cluster_centers)\n"
      ],
      "metadata": {
        "colab": {
          "base_uri": "https://localhost:8080/"
        },
        "id": "3iU0HQwdZdJ7",
        "outputId": "68ebfd67-691b-42d7-ba7f-1646cdd3d5c2"
      },
      "execution_count": 29,
      "outputs": [
        {
          "output_type": "stream",
          "name": "stdout",
          "text": [
            "Cluster Centers (Mean Feature Values):\n",
            "          Year        Int         Yds        Avg         Lg        TD  \\\n",
            "0  2014.500000  14.000000  184.500000   9.824879  23.375000  2.000000   \n",
            "1  2013.590909  12.698864  175.522727  11.557167  22.864773  1.519318   \n",
            "2  2014.500000   8.375000  125.000000  11.850075  28.250000  0.625000   \n",
            "\n",
            "         Solo         Ast         Tot       Sack  ...  FG_Made_Scoring  \\\n",
            "0  243.750000  150.750000  394.500000  10.125000  ...        21.142857   \n",
            "1  257.688636  139.934091  397.622727   7.433523  ...        14.177822   \n",
            "2  206.000000   77.000000  283.000000   4.312500  ...        14.285714   \n",
            "\n",
            "   FG_Att_Scoring  Year_Rushing         Att         Gain        Loss  \\\n",
            "0       25.428571   2014.500000  497.375000  1346.000000  268.875000   \n",
            "1       18.853147   2013.590909  444.543182  1583.421591  204.147727   \n",
            "2       20.285714   2014.500000  442.375000  1590.875000  227.375000   \n",
            "\n",
            "   Yds_Rushing  Avg_Rushing  Lg_Rushing  TD_Rushing  \n",
            "0  1120.375000     5.964516   39.250000   20.750000  \n",
            "1  1471.434091     5.962188   29.928409   22.295455  \n",
            "2  1378.375000     4.887204   30.375000   16.750000  \n",
            "\n",
            "[3 rows x 74 columns]\n"
          ]
        }
      ]
    },
    {
      "cell_type": "code",
      "source": [
        "# Print out the teams in each cluster\n",
        "for i in range(kmeans.n_clusters):\n",
        "    print(f\"\\nTeams in Cluster {i}:\")\n",
        "    cluster_teams = merged_df[merged_df['Cluster'] == i]['Team']\n",
        "    for team in cluster_teams:\n",
        "        print(team)\n"
      ],
      "metadata": {
        "colab": {
          "base_uri": "https://localhost:8080/"
        },
        "id": "6G2xUsZ0ZC8f",
        "outputId": "bcf3fcce-6908-4ce6-d8a5-5bbde2736d23"
      },
      "execution_count": 30,
      "outputs": [
        {
          "output_type": "stream",
          "name": "stdout",
          "text": [
            "\n",
            "Teams in Cluster 0:\n",
            "UTAH\n",
            "\n",
            "Teams in Cluster 1:\n",
            "ARIZ\n",
            "AZST\n",
            "CAL\n",
            "ORE\n",
            "ORST\n",
            "STAN\n",
            "UCLA\n",
            "USC\n",
            "WASH\n",
            "WSU\n",
            "ALA\n",
            "AUB\n",
            "FLA\n",
            "KY\n",
            "LSU\n",
            "MIZZ\n",
            "MSST\n",
            "SCAR\n",
            "TAMU\n",
            "TENN\n",
            "VAN\n",
            "0\n",
            "\n",
            "Teams in Cluster 2:\n",
            "COL\n"
          ]
        }
      ]
    },
    {
      "cell_type": "code",
      "source": [
        "# Calculate mean statistics for each cluster\n",
        "for i in range(kmeans.n_clusters):\n",
        "    print(f\"\\nCluster {i} Mean Statistics:\")\n",
        "    cluster_mean_stats = merged_df[merged_df['Cluster'] == i].drop(['Team', 'Cluster'], axis=1).mean()\n",
        "    print(cluster_mean_stats)\n"
      ],
      "metadata": {
        "colab": {
          "base_uri": "https://localhost:8080/"
        },
        "id": "YcsgWQNxW9D6",
        "outputId": "5162c874-81a3-4601-e3ad-37c4ad213474"
      },
      "execution_count": 31,
      "outputs": [
        {
          "output_type": "stream",
          "name": "stdout",
          "text": [
            "\n",
            "Cluster 0 Mean Statistics:\n",
            "Year           2014.500000\n",
            "Int              14.000000\n",
            "Yds             184.500000\n",
            "Avg               9.824879\n",
            "Lg               23.375000\n",
            "                  ...     \n",
            "Loss            268.875000\n",
            "Yds_Rushing    1120.375000\n",
            "Avg_Rushing       5.964516\n",
            "Lg_Rushing       39.250000\n",
            "TD_Rushing       20.750000\n",
            "Length: 74, dtype: float64\n",
            "\n",
            "Cluster 1 Mean Statistics:\n",
            "Year           2013.500000\n",
            "Int              12.850000\n",
            "Yds             177.600000\n",
            "Avg              11.629136\n",
            "Lg               22.570000\n",
            "                  ...     \n",
            "Loss            199.750000\n",
            "Yds_Rushing    1493.640000\n",
            "Avg_Rushing       6.015821\n",
            "Lg_Rushing       29.440000\n",
            "TD_Rushing       22.650000\n",
            "Length: 74, dtype: float64\n",
            "\n",
            "Cluster 2 Mean Statistics:\n",
            "Year           2014.500000\n",
            "Int               8.375000\n",
            "Yds             125.000000\n",
            "Avg              11.850075\n",
            "Lg               28.250000\n",
            "                  ...     \n",
            "Loss            227.375000\n",
            "Yds_Rushing    1378.375000\n",
            "Avg_Rushing       4.887204\n",
            "Lg_Rushing       30.375000\n",
            "TD_Rushing       16.750000\n",
            "Length: 74, dtype: float64\n"
          ]
        }
      ]
    },
    {
      "cell_type": "code",
      "source": [
        "from sklearn.decomposition import PCA\n",
        "import matplotlib.pyplot as plt\n",
        "\n",
        "# Reduce data to 2 dimensions for visualization\n",
        "pca = PCA(n_components=2)\n",
        "reduced_data = pca.fit_transform(X_scaled)\n",
        "\n",
        "# Plot the reduced data and color by cluster\n",
        "plt.figure(figsize=(10, 7))\n",
        "for i in range(kmeans.n_clusters):\n",
        "    plt.scatter(reduced_data[merged_df['Cluster'] == i, 0], reduced_data[merged_df['Cluster'] == i, 1], label=f'Cluster {i}')\n",
        "plt.title('Clusters of Teams')\n",
        "plt.xlabel('PCA Component 1')\n",
        "plt.ylabel('PCA Component 2')\n",
        "plt.legend()\n",
        "plt.show()\n"
      ],
      "metadata": {
        "colab": {
          "base_uri": "https://localhost:8080/",
          "height": 641
        },
        "id": "5TW01uEQhct5",
        "outputId": "79f12409-e76e-402d-bdcf-fd63fa85f7f9"
      },
      "execution_count": 32,
      "outputs": [
        {
          "output_type": "display_data",
          "data": {
            "text/plain": [
              "<Figure size 1000x700 with 1 Axes>"
            ],
            "image/png": "[encoded data removed]"
          },
          "metadata": {}
        }
      ]
    },
    {
      "cell_type": "markdown",
      "source": [
        "### **Example: Displaying Percentiles for Each Feature Within a Cluster**\n",
        "\n",
        "The purpose of this code snippet is to explore the distribution of features within each cluster identified by the K-Means clustering algorithm. By analyzing the percentiles, we can gain insights into the spread and central tendencies of the features for the teams grouped in each cluster. This can help in understanding the characteristics that define each cluster more deeply.\n",
        "\n",
        "- For each cluster, we first filter `merged_df` to obtain data corresponding to that cluster.\n",
        "- We exclude the 'Team' and 'Cluster' columns since they are not numerical features.\n",
        "- The `describe()` method is then applied to this filtered data, specifying the 25th, 50th (median), and 75th percentiles to be displayed alongside other descriptive statistics.\n",
        "- This process is repeated for each cluster, providing a comprehensive view of the feature distributions across clusters.\n",
        "\n",
        "Understanding these distributions can assist in pinpointing key differentiators among clusters and tailoring strategies accordingly.\n"
      ],
      "metadata": {
        "id": "MLEPobD9y4Hp"
      }
    },
    {
      "cell_type": "code",
      "source": [
        "# Example: Displaying percentiles for each feature within a cluster\n",
        "for i in range(kmeans.n_clusters):\n",
        "    print(f\"\\nPercentiles for Cluster {i}:\")\n",
        "    cluster_data = merged_df[merged_df['Cluster'] == i].drop(['Team', 'Cluster'], axis=1)\n",
        "    print(cluster_data.describe(percentiles=[.25, .5, .75]))\n"
      ],
      "metadata": {
        "id": "Bctar4xpjRmk",
        "colab": {
          "base_uri": "https://localhost:8080/"
        },
        "outputId": "db6acf8b-155a-4115-ed55-6d7845bf16cd"
      },
      "execution_count": 33,
      "outputs": [
        {
          "output_type": "stream",
          "name": "stdout",
          "text": [
            "\n",
            "Percentiles for Cluster 0:\n",
            "         Year   Int    Yds       Avg      Lg   TD    Solo     Ast    Tot  \\\n",
            "count     1.0   1.0    1.0  1.000000   1.000  1.0    1.00    1.00    1.0   \n",
            "mean   2014.5  14.0  184.5  9.824879  23.375  2.0  243.75  150.75  394.5   \n",
            "std       NaN   NaN    NaN       NaN     NaN  NaN     NaN     NaN    NaN   \n",
            "min    2014.5  14.0  184.5  9.824879  23.375  2.0  243.75  150.75  394.5   \n",
            "25%    2014.5  14.0  184.5  9.824879  23.375  2.0  243.75  150.75  394.5   \n",
            "50%    2014.5  14.0  184.5  9.824879  23.375  2.0  243.75  150.75  394.5   \n",
            "75%    2014.5  14.0  184.5  9.824879  23.375  2.0  243.75  150.75  394.5   \n",
            "max    2014.5  14.0  184.5  9.824879  23.375  2.0  243.75  150.75  394.5   \n",
            "\n",
            "         Sack  ...  FG_Made_Scoring  FG_Att_Scoring  Year_Rushing      Att  \\\n",
            "count   1.000  ...         1.000000        1.000000           1.0    1.000   \n",
            "mean   10.125  ...        21.142857       25.428571        2014.5  497.375   \n",
            "std       NaN  ...              NaN             NaN           NaN      NaN   \n",
            "min    10.125  ...        21.142857       25.428571        2014.5  497.375   \n",
            "25%    10.125  ...        21.142857       25.428571        2014.5  497.375   \n",
            "50%    10.125  ...        21.142857       25.428571        2014.5  497.375   \n",
            "75%    10.125  ...        21.142857       25.428571        2014.5  497.375   \n",
            "max    10.125  ...        21.142857       25.428571        2014.5  497.375   \n",
            "\n",
            "         Gain     Loss  Yds_Rushing  Avg_Rushing  Lg_Rushing  TD_Rushing  \n",
            "count     1.0    1.000        1.000     1.000000        1.00        1.00  \n",
            "mean   1346.0  268.875     1120.375     5.964516       39.25       20.75  \n",
            "std       NaN      NaN          NaN          NaN         NaN         NaN  \n",
            "min    1346.0  268.875     1120.375     5.964516       39.25       20.75  \n",
            "25%    1346.0  268.875     1120.375     5.964516       39.25       20.75  \n",
            "50%    1346.0  268.875     1120.375     5.964516       39.25       20.75  \n",
            "75%    1346.0  268.875     1120.375     5.964516       39.25       20.75  \n",
            "max    1346.0  268.875     1120.375     5.964516       39.25       20.75  \n",
            "\n",
            "[8 rows x 74 columns]\n",
            "\n",
            "Percentiles for Cluster 1:\n",
            "         Year       Int         Yds        Avg         Lg         TD  \\\n",
            "count    10.0  10.00000   10.000000  10.000000  10.000000  10.000000   \n",
            "mean   2013.5  12.85000  177.600000  11.629136  22.570000   1.540000   \n",
            "std       0.0   1.56436   35.442348   1.963798   4.021622   0.359629   \n",
            "min    2013.5  10.40000  125.700000   8.809629  17.900000   1.000000   \n",
            "25%    2013.5  12.07500  164.450000  10.329462  19.975000   1.400000   \n",
            "50%    2013.5  12.55000  171.900000  11.177249  20.450000   1.550000   \n",
            "75%    2013.5  13.45000  183.975000  13.561380  26.250000   1.775000   \n",
            "max    2013.5  16.00000  240.300000  14.212274  28.500000   2.100000   \n",
            "\n",
            "             Solo         Ast         Tot      Sack  ...  FG_Made_Scoring  \\\n",
            "count   10.000000   10.000000   10.000000  10.00000  ...        11.000000   \n",
            "mean   260.970000  142.540000  403.510000   7.45500  ...        13.883117   \n",
            "std     29.666556   22.912985   35.605351   2.76219  ...         5.323348   \n",
            "min    213.100000  111.500000  343.500000   4.60000  ...         0.000000   \n",
            "25%    244.700000  124.150000  390.475000   5.15000  ...        13.142857   \n",
            "50%    258.100000  141.150000  405.550000   7.02500  ...        14.714286   \n",
            "75%    276.075000  162.925000  425.900000   8.46250  ...        16.071429   \n",
            "max    317.000000  174.000000  461.300000  12.45000  ...        21.142857   \n",
            "\n",
            "       FG_Att_Scoring  Year_Rushing         Att         Gain        Loss  \\\n",
            "count       11.000000          10.0   10.000000    10.000000   10.000000   \n",
            "mean        18.519481        2013.5  442.010000  1594.920000  199.750000   \n",
            "std          6.846800           0.0   89.960417   284.100658   70.681685   \n",
            "min          0.000000        2013.5  246.300000  1172.900000   90.100000   \n",
            "25%         18.285714        2013.5  407.575000  1435.275000  153.575000   \n",
            "50%         19.714286        2013.5  469.300000  1558.550000  184.350000   \n",
            "75%         21.285714        2013.5  483.250000  1710.025000  268.475000   \n",
            "max         26.857143        2013.5  581.600000  2188.800000  289.600000   \n",
            "\n",
            "       Yds_Rushing  Avg_Rushing  Lg_Rushing  TD_Rushing  \n",
            "count    10.000000    10.000000   10.000000   10.000000  \n",
            "mean   1493.640000     6.015821   29.440000   22.650000  \n",
            "std     314.064569     0.856287    3.966022    7.436883  \n",
            "min    1082.800000     4.613861   24.200000   10.400000  \n",
            "25%    1311.250000     5.424420   26.900000   19.125000  \n",
            "50%    1456.000000     6.004787   28.900000   22.500000  \n",
            "75%    1663.600000     6.622869   30.850000   25.575000  \n",
            "max    2058.600000     7.421044   36.800000   38.400000  \n",
            "\n",
            "[8 rows x 74 columns]\n",
            "\n",
            "Percentiles for Cluster 2:\n",
            "         Year    Int    Yds        Avg     Lg     TD   Solo   Ast    Tot  \\\n",
            "count     1.0  1.000    1.0   1.000000   1.00  1.000    1.0   1.0    1.0   \n",
            "mean   2014.5  8.375  125.0  11.850075  28.25  0.625  206.0  77.0  283.0   \n",
            "std       NaN    NaN    NaN        NaN    NaN    NaN    NaN   NaN    NaN   \n",
            "min    2014.5  8.375  125.0  11.850075  28.25  0.625  206.0  77.0  283.0   \n",
            "25%    2014.5  8.375  125.0  11.850075  28.25  0.625  206.0  77.0  283.0   \n",
            "50%    2014.5  8.375  125.0  11.850075  28.25  0.625  206.0  77.0  283.0   \n",
            "75%    2014.5  8.375  125.0  11.850075  28.25  0.625  206.0  77.0  283.0   \n",
            "max    2014.5  8.375  125.0  11.850075  28.25  0.625  206.0  77.0  283.0   \n",
            "\n",
            "         Sack  ...  FG_Made_Scoring  FG_Att_Scoring  Year_Rushing      Att  \\\n",
            "count  1.0000  ...         1.000000        1.000000           1.0    1.000   \n",
            "mean   4.3125  ...        14.285714       20.285714        2014.5  442.375   \n",
            "std       NaN  ...              NaN             NaN           NaN      NaN   \n",
            "min    4.3125  ...        14.285714       20.285714        2014.5  442.375   \n",
            "25%    4.3125  ...        14.285714       20.285714        2014.5  442.375   \n",
            "50%    4.3125  ...        14.285714       20.285714        2014.5  442.375   \n",
            "75%    4.3125  ...        14.285714       20.285714        2014.5  442.375   \n",
            "max    4.3125  ...        14.285714       20.285714        2014.5  442.375   \n",
            "\n",
            "           Gain     Loss  Yds_Rushing  Avg_Rushing  Lg_Rushing  TD_Rushing  \n",
            "count     1.000    1.000        1.000     1.000000       1.000        1.00  \n",
            "mean   1590.875  227.375     1378.375     4.887204      30.375       16.75  \n",
            "std         NaN      NaN          NaN          NaN         NaN         NaN  \n",
            "min    1590.875  227.375     1378.375     4.887204      30.375       16.75  \n",
            "25%    1590.875  227.375     1378.375     4.887204      30.375       16.75  \n",
            "50%    1590.875  227.375     1378.375     4.887204      30.375       16.75  \n",
            "75%    1590.875  227.375     1378.375     4.887204      30.375       16.75  \n",
            "max    1590.875  227.375     1378.375     4.887204      30.375       16.75  \n",
            "\n",
            "[8 rows x 74 columns]\n"
          ]
        }
      ]
    },
    {
      "cell_type": "code",
      "source": [
        "# Example: ANOVA test to identify features that differ significantly between clusters\n",
        "from scipy import stats\n",
        "\n",
        "features = merged_df.columns.drop(['Team', 'Cluster'])\n",
        "for feature in features:\n",
        "    data = [merged_df[feature][merged_df['Cluster'] == i] for i in range(kmeans.n_clusters)]\n",
        "    f_val, p_val = stats.f_oneway(*data)\n",
        "    if p_val < 0.05:\n",
        "        print(f\"{feature} differs significantly across clusters (p-value: {p_val})\")\n"
      ],
      "metadata": {
        "id": "SEZyvW6PjG9M"
      },
      "execution_count": 35,
      "outputs": []
    },
    {
      "cell_type": "code",
      "source": [
        "for i in range(kmeans.n_clusters):\n",
        "    print(f\"Cluster {i} Statistics:\")\n",
        "    cluster_data = merged_df[merged_df['Cluster'] == i]\n",
        "    summary_stats = cluster_data.describe()\n",
        "    print(summary_stats, \"\\n\")\n"
      ],
      "metadata": {
        "colab": {
          "base_uri": "https://localhost:8080/"
        },
        "id": "uXqaYwZJjRGW",
        "outputId": "5361d02e-2a4f-49ac-8d9b-6aef4c04c23b"
      },
      "execution_count": 37,
      "outputs": [
        {
          "output_type": "stream",
          "name": "stdout",
          "text": [
            "Cluster 0 Statistics:\n",
            "         Year   Int    Yds       Avg      Lg   TD    Solo     Ast    Tot  \\\n",
            "count     1.0   1.0    1.0  1.000000   1.000  1.0    1.00    1.00    1.0   \n",
            "mean   2014.5  14.0  184.5  9.824879  23.375  2.0  243.75  150.75  394.5   \n",
            "std       NaN   NaN    NaN       NaN     NaN  NaN     NaN     NaN    NaN   \n",
            "min    2014.5  14.0  184.5  9.824879  23.375  2.0  243.75  150.75  394.5   \n",
            "25%    2014.5  14.0  184.5  9.824879  23.375  2.0  243.75  150.75  394.5   \n",
            "50%    2014.5  14.0  184.5  9.824879  23.375  2.0  243.75  150.75  394.5   \n",
            "75%    2014.5  14.0  184.5  9.824879  23.375  2.0  243.75  150.75  394.5   \n",
            "max    2014.5  14.0  184.5  9.824879  23.375  2.0  243.75  150.75  394.5   \n",
            "\n",
            "         Sack  ...  FG_Att_Scoring  Year_Rushing      Att    Gain     Loss  \\\n",
            "count   1.000  ...        1.000000           1.0    1.000     1.0    1.000   \n",
            "mean   10.125  ...       25.428571        2014.5  497.375  1346.0  268.875   \n",
            "std       NaN  ...             NaN           NaN      NaN     NaN      NaN   \n",
            "min    10.125  ...       25.428571        2014.5  497.375  1346.0  268.875   \n",
            "25%    10.125  ...       25.428571        2014.5  497.375  1346.0  268.875   \n",
            "50%    10.125  ...       25.428571        2014.5  497.375  1346.0  268.875   \n",
            "75%    10.125  ...       25.428571        2014.5  497.375  1346.0  268.875   \n",
            "max    10.125  ...       25.428571        2014.5  497.375  1346.0  268.875   \n",
            "\n",
            "       Yds_Rushing  Avg_Rushing  Lg_Rushing  TD_Rushing  Cluster  \n",
            "count        1.000     1.000000        1.00        1.00      1.0  \n",
            "mean      1120.375     5.964516       39.25       20.75      0.0  \n",
            "std            NaN          NaN         NaN         NaN      NaN  \n",
            "min       1120.375     5.964516       39.25       20.75      0.0  \n",
            "25%       1120.375     5.964516       39.25       20.75      0.0  \n",
            "50%       1120.375     5.964516       39.25       20.75      0.0  \n",
            "75%       1120.375     5.964516       39.25       20.75      0.0  \n",
            "max       1120.375     5.964516       39.25       20.75      0.0  \n",
            "\n",
            "[8 rows x 75 columns] \n",
            "\n",
            "Cluster 1 Statistics:\n",
            "         Year       Int         Yds        Avg         Lg         TD  \\\n",
            "count    10.0  10.00000   10.000000  10.000000  10.000000  10.000000   \n",
            "mean   2013.5  12.85000  177.600000  11.629136  22.570000   1.540000   \n",
            "std       0.0   1.56436   35.442348   1.963798   4.021622   0.359629   \n",
            "min    2013.5  10.40000  125.700000   8.809629  17.900000   1.000000   \n",
            "25%    2013.5  12.07500  164.450000  10.329462  19.975000   1.400000   \n",
            "50%    2013.5  12.55000  171.900000  11.177249  20.450000   1.550000   \n",
            "75%    2013.5  13.45000  183.975000  13.561380  26.250000   1.775000   \n",
            "max    2013.5  16.00000  240.300000  14.212274  28.500000   2.100000   \n",
            "\n",
            "             Solo         Ast         Tot      Sack  ...  FG_Att_Scoring  \\\n",
            "count   10.000000   10.000000   10.000000  10.00000  ...       11.000000   \n",
            "mean   260.970000  142.540000  403.510000   7.45500  ...       18.519481   \n",
            "std     29.666556   22.912985   35.605351   2.76219  ...        6.846800   \n",
            "min    213.100000  111.500000  343.500000   4.60000  ...        0.000000   \n",
            "25%    244.700000  124.150000  390.475000   5.15000  ...       18.285714   \n",
            "50%    258.100000  141.150000  405.550000   7.02500  ...       19.714286   \n",
            "75%    276.075000  162.925000  425.900000   8.46250  ...       21.285714   \n",
            "max    317.000000  174.000000  461.300000  12.45000  ...       26.857143   \n",
            "\n",
            "       Year_Rushing         Att         Gain        Loss  Yds_Rushing  \\\n",
            "count          10.0   10.000000    10.000000   10.000000    10.000000   \n",
            "mean         2013.5  442.010000  1594.920000  199.750000  1493.640000   \n",
            "std             0.0   89.960417   284.100658   70.681685   314.064569   \n",
            "min          2013.5  246.300000  1172.900000   90.100000  1082.800000   \n",
            "25%          2013.5  407.575000  1435.275000  153.575000  1311.250000   \n",
            "50%          2013.5  469.300000  1558.550000  184.350000  1456.000000   \n",
            "75%          2013.5  483.250000  1710.025000  268.475000  1663.600000   \n",
            "max          2013.5  581.600000  2188.800000  289.600000  2058.600000   \n",
            "\n",
            "       Avg_Rushing  Lg_Rushing  TD_Rushing  Cluster  \n",
            "count    10.000000   10.000000   10.000000     22.0  \n",
            "mean      6.015821   29.440000   22.650000      1.0  \n",
            "std       0.856287    3.966022    7.436883      0.0  \n",
            "min       4.613861   24.200000   10.400000      1.0  \n",
            "25%       5.424420   26.900000   19.125000      1.0  \n",
            "50%       6.004787   28.900000   22.500000      1.0  \n",
            "75%       6.622869   30.850000   25.575000      1.0  \n",
            "max       7.421044   36.800000   38.400000      1.0  \n",
            "\n",
            "[8 rows x 75 columns] \n",
            "\n",
            "Cluster 2 Statistics:\n",
            "         Year    Int    Yds        Avg     Lg     TD   Solo   Ast    Tot  \\\n",
            "count     1.0  1.000    1.0   1.000000   1.00  1.000    1.0   1.0    1.0   \n",
            "mean   2014.5  8.375  125.0  11.850075  28.25  0.625  206.0  77.0  283.0   \n",
            "std       NaN    NaN    NaN        NaN    NaN    NaN    NaN   NaN    NaN   \n",
            "min    2014.5  8.375  125.0  11.850075  28.25  0.625  206.0  77.0  283.0   \n",
            "25%    2014.5  8.375  125.0  11.850075  28.25  0.625  206.0  77.0  283.0   \n",
            "50%    2014.5  8.375  125.0  11.850075  28.25  0.625  206.0  77.0  283.0   \n",
            "75%    2014.5  8.375  125.0  11.850075  28.25  0.625  206.0  77.0  283.0   \n",
            "max    2014.5  8.375  125.0  11.850075  28.25  0.625  206.0  77.0  283.0   \n",
            "\n",
            "         Sack  ...  FG_Att_Scoring  Year_Rushing      Att      Gain     Loss  \\\n",
            "count  1.0000  ...        1.000000           1.0    1.000     1.000    1.000   \n",
            "mean   4.3125  ...       20.285714        2014.5  442.375  1590.875  227.375   \n",
            "std       NaN  ...             NaN           NaN      NaN       NaN      NaN   \n",
            "min    4.3125  ...       20.285714        2014.5  442.375  1590.875  227.375   \n",
            "25%    4.3125  ...       20.285714        2014.5  442.375  1590.875  227.375   \n",
            "50%    4.3125  ...       20.285714        2014.5  442.375  1590.875  227.375   \n",
            "75%    4.3125  ...       20.285714        2014.5  442.375  1590.875  227.375   \n",
            "max    4.3125  ...       20.285714        2014.5  442.375  1590.875  227.375   \n",
            "\n",
            "       Yds_Rushing  Avg_Rushing  Lg_Rushing  TD_Rushing  Cluster  \n",
            "count        1.000     1.000000       1.000        1.00      1.0  \n",
            "mean      1378.375     4.887204      30.375       16.75      2.0  \n",
            "std            NaN          NaN         NaN         NaN      NaN  \n",
            "min       1378.375     4.887204      30.375       16.75      2.0  \n",
            "25%       1378.375     4.887204      30.375       16.75      2.0  \n",
            "50%       1378.375     4.887204      30.375       16.75      2.0  \n",
            "75%       1378.375     4.887204      30.375       16.75      2.0  \n",
            "max       1378.375     4.887204      30.375       16.75      2.0  \n",
            "\n",
            "[8 rows x 75 columns] \n",
            "\n"
          ]
        }
      ]
    },
    {
      "cell_type": "code",
      "source": [
        "print(merged_df.columns)\n"
      ],
      "metadata": {
        "colab": {
          "base_uri": "https://localhost:8080/"
        },
        "id": "MJsfqWOhkBGO",
        "outputId": "10357067-e746-493d-f788-26f064a14fd8"
      },
      "execution_count": 39,
      "outputs": [
        {
          "output_type": "stream",
          "name": "stdout",
          "text": [
            "Index(['Team', 'Year', 'Int', 'Yds', 'Avg', 'Lg', 'TD', 'Solo', 'Ast', 'Tot',\n",
            "       'Sack', 'YdsL', 'Year_kick-off statistics', 'Num',\n",
            "       'Yds_kick-off statistics', 'Avg_kick-off statistics',\n",
            "       'Lg_kick-off statistics', 'TB', 'OB', 'Ret', 'RYds',\n",
            "       'TD_kick-off statistics', 'Year_kick-off return', 'Num_kick-off return',\n",
            "       'Yds_kick-off return', 'Avg_kick-off return', 'FC',\n",
            "       'Lg_kick-off return', 'TD_kick-off return', 'Year_RECEIVING', 'Rec',\n",
            "       'Yds_RECEIVING', 'Avg_RECEIVING', 'Lg_RECEIVING', 'TD_RECEIVING',\n",
            "       'Year_Kicking', 'PAT_Made', 'PAT_Att', 'FG_Made', 'FG_Att',\n",
            "       'Lg_Kicking', 'Pts', 'Year_Punting', 'Punts', 'Yds_Punting',\n",
            "       'Avg_Punting', 'Lg_Punting', 'TB_Punting', 'In20', 'Blk', 'Net',\n",
            "       'Ret_Punting', 'RYds_Punting', 'Year_Punt_Return', 'Num_Punt_Return',\n",
            "       'Yds_Punt_Return', 'Avg_Punt_Return', 'FC_Punt_Return',\n",
            "       'Lg_Punt_Return', 'TD_Punt_Return', 'Year_Scoring', 'Pts_Scoring',\n",
            "       'Tot_Scoring', 'PAT_Made_Scoring', 'PAT_Att_Scoring', 'FG_Made_Scoring',\n",
            "       'FG_Att_Scoring', 'Year_Rushing', 'Att', 'Gain', 'Loss', 'Yds_Rushing',\n",
            "       'Avg_Rushing', 'Lg_Rushing', 'TD_Rushing', 'Cluster'],\n",
            "      dtype='object')\n"
          ]
        }
      ]
    },
    {
      "cell_type": "markdown",
      "source": [
        "### **ANOVA Test for Feature Comparison**\n",
        "\n",
        "To understand how different clusters perform across key features, we perform an ANOVA test for each selected feature. This statistical test helps us determine if there are any statistically significant differences in the means of the same feature across the clusters.\n",
        "\n",
        "The features we're focusing on for this analysis are:\n",
        "- **Yards (Yds)**\n",
        "- **Sacks (Sack)**\n",
        "- **Touchdowns (TD)**\n",
        "\n",
        "For each feature, the ANOVA test calculates an **F-Value** and a **P-Value**:\n",
        "- The **F-Value** measures the ratio of variance between the groups to the variance within the groups. A higher F-Value suggests a significant difference between group means.\n",
        "- The **P-Value** helps us determine the significance of our findings. A P-Value less than 0.05 typically suggests that the observed differences in means are statistically significant.\n",
        "\n",
        "### **Results Interpretation**\n",
        "\n",
        "The outcomes of the ANOVA test are crucial for identifying features that significantly differentiate the clusters. Features with significant differences could point towards strategic areas of focus for teams to enhance their performance or alter their tactical approach.\n"
      ],
      "metadata": {
        "id": "krU0P26YzGA6"
      }
    },
    {
      "cell_type": "code",
      "source": [
        "from scipy.stats import f_oneway\n",
        "\n",
        "# Features to test\n",
        "features_to_test = ['Yds', 'Sack', 'TD']\n",
        "\n",
        "# Perform ANOVA test for each feature and print the results\n",
        "for feature in features_to_test:\n",
        "    f_val, p_val = f_oneway(merged_df[merged_df['Cluster'] == 0][feature],\n",
        "                            merged_df[merged_df['Cluster'] == 1][feature],\n",
        "                            merged_df[merged_df['Cluster'] == 2][feature])\n",
        "    print(f\"ANOVA Test for {feature}: F-Value = {f_val:.3f}, P-Value = {p_val:.3f}\")\n"
      ],
      "metadata": {
        "colab": {
          "base_uri": "https://localhost:8080/"
        },
        "id": "rQEe4jrIj1F6",
        "outputId": "71681c17-ba04-4e33-91c5-ab42fc023217"
      },
      "execution_count": 40,
      "outputs": [
        {
          "output_type": "stream",
          "name": "stdout",
          "text": [
            "ANOVA Test for Yds: F-Value = nan, P-Value = nan\n",
            "ANOVA Test for Sack: F-Value = nan, P-Value = nan\n",
            "ANOVA Test for TD: F-Value = nan, P-Value = nan\n"
          ]
        }
      ]
    },
    {
      "cell_type": "markdown",
      "source": [
        "**Handling Missing Values with Mean Imputation**\n",
        "\n",
        "In our dataset, ensuring completeness and consistency across all features is paramount for accurate analysis. To address missing values in key statistical metrics, we employ a mean imputation strategy. This approach seamlessly fills in missing values with the mean of the respective feature across all available data points, maintaining the integrity of our dataset.\n",
        "\n",
        "- We create an **imputer object** designated for mean imputation, leveraging the `SimpleImputer` class from `scikit-learn`. This imputer is specifically configured to replace `NaN` values, which represent missing data within our dataset.\n",
        "\n",
        "- The features targeted for this imputation process include **yard gains** (`Yds`), **sacks** (`Sack`), and **touchdowns** (`TD`). These metrics are crucial for our analysis, representing key aspects of football performance.\n",
        "\n",
        "- By iterating over our selected features, the imputer object is applied to each, ensuring that any missing values within these columns are replaced with the feature's mean. This step is critical for preserving the dataset's analytical validity and preventing any bias that might arise from incomplete data.\n",
        "\n",
        "This imputation process fortifies our dataset, enabling a more robust and insightful exploration of football team performances.\n"
      ],
      "metadata": {
        "id": "Jt_Tr-CmzRyn"
      }
    },
    {
      "cell_type": "code",
      "source": [
        "from sklearn.impute import SimpleImputer\n",
        "import numpy as np\n",
        "\n",
        "# Create an imputer object for mean imputation\n",
        "imputer = SimpleImputer(missing_values=np.nan, strategy='mean')\n",
        "\n",
        "# Features you want to test\n",
        "features_to_test = ['Yds', 'Sack', 'TD']\n",
        "\n",
        "# Impute NaN values for these features\n",
        "for feature in features_to_test:\n",
        "    merged_df[feature] = imputer.fit_transform(merged_df[[feature]])\n"
      ],
      "metadata": {
        "id": "K5cm5NmPkUjr"
      },
      "execution_count": 41,
      "outputs": []
    },
    {
      "cell_type": "code",
      "source": [
        "from scipy.stats import f_oneway\n",
        "\n",
        "# Perform ANOVA test for each feature and print the results\n",
        "for feature in features_to_test:\n",
        "    f_val, p_val = f_oneway(merged_df[merged_df['Cluster'] == 0][feature],\n",
        "                            merged_df[merged_df['Cluster'] == 1][feature],\n",
        "                            merged_df[merged_df['Cluster'] == 2][feature])\n",
        "    print(f\"ANOVA Test for {feature}: F-Value = {f_val:.3f}, P-Value = {p_val:.3f}\")\n"
      ],
      "metadata": {
        "colab": {
          "base_uri": "https://localhost:8080/"
        },
        "id": "RdOu1XI6kYmF",
        "outputId": "50fbcef5-e81c-4a1d-cdc8-9e62e8f8f94d"
      },
      "execution_count": 42,
      "outputs": [
        {
          "output_type": "stream",
          "name": "stdout",
          "text": [
            "ANOVA Test for Yds: F-Value = 2.362, P-Value = 0.119\n",
            "ANOVA Test for Sack: F-Value = 2.596, P-Value = 0.098\n",
            "ANOVA Test for TD: F-Value = 9.173, P-Value = 0.001\n"
          ]
        }
      ]
    },
    {
      "cell_type": "markdown",
      "source": [
        "### ANOVA Test Results Interpretation:\n",
        "\n",
        "#### **Yards (Yds)**\n",
        "- **F-Value:** 2.362\n",
        "- **P-Value:** 0.119\n",
        "\n",
        "  **Interpretation:** The P-value is greater than 0.05, indicating that there's not enough evidence to conclude that the mean yards gained significantly differ among the clusters. This suggests that the differences observed in yards gained across the clusters could be due to chance.\n",
        "\n",
        "#### **Sacks (Sack)**\n",
        "- **F-Value:** 2.596\n",
        "- **P-Value:** 0.098\n",
        "\n",
        "  **Interpretation:** Similar to yards, the P-value is above the typical alpha level of 0.05, suggesting that the differences in mean sacks among the clusters are not statistically significant. While there might be a trend, it's not strong enough to confirm without doubt.\n",
        "\n",
        "#### **Touchdowns (TD)**\n",
        "- **F-Value:** 9.173\n",
        "- **P-Value:** 0.001\n",
        "\n",
        "  **Interpretation:** Here, the P-value is below 0.05, indicating that the differences in mean touchdowns scored are statistically significant across the clusters. This suggests that touchdowns are a key differentiator among the clusters, with at least one cluster having a significantly different mean value of touchdowns compared to the others.\n",
        "\n",
        "### Strategic Implications and Next Steps:\n",
        "\n",
        "Given these results, touchdowns (TD) emerge as a critical performance metric differentiating the clusters. The significant difference in touchdowns suggests that teams in at least one cluster are scoring touchdowns at a notably different rate than teams in other clusters. This insight can be particularly valuable for identifying successful offensive strategies or player performance traits associated with scoring.\n",
        "\n",
        "### For Tactical Adjustments and Recommendations:\n",
        "\n",
        "- **Focus on Offensive Plays:** Teams looking to improve or alter their cluster grouping might focus on offensive strategies that enhance their ability to score touchdowns.\n",
        "- **Player Training and Recruitment:** Special attention could be given to training offensive players or recruiting players known for their scoring ability, aiming to replicate the successful traits identified in the cluster with significantly higher mean touchdowns.\n",
        "\n",
        "### Continuous Monitoring and Feedback:\n",
        "\n",
        "- **Performance Tracking:** Continuously monitor the touchdown-scoring performance and other key metrics to gauge the effectiveness of any changes implemented.\n",
        "- **Adjust Strategies:** Be prepared to adjust training, play strategies, and recruitment based on ongoing performance data and the evolving competitive landscape.\n"
      ],
      "metadata": {
        "id": "8pFZouTakopd"
      }
    },
    {
      "cell_type": "code",
      "source": [
        "# Assuming 'Pts' is your success metric\n",
        "success_by_cluster = merged_df.groupby('Cluster')['Pts'].mean()\n",
        "print(success_by_cluster.sort_values(ascending=False))\n"
      ],
      "metadata": {
        "colab": {
          "base_uri": "https://localhost:8080/"
        },
        "id": "RfQYlISPmGnn",
        "outputId": "e4d78baa-6759-4816-b191-c8f312cf938c"
      },
      "execution_count": 44,
      "outputs": [
        {
          "output_type": "stream",
          "name": "stdout",
          "text": [
            "Cluster\n",
            "0    104.125\n",
            "1     92.750\n",
            "2     78.875\n",
            "Name: Pts, dtype: float64\n"
          ]
        }
      ]
    },
    {
      "cell_type": "markdown",
      "source": [
        "### Interpretation of the Mean Points by Cluster\n",
        "\n",
        "- **Cluster 0** has the highest mean points with **104.125**. This suggests that teams in Cluster 0 are, on average, the most successful in terms of scoring points. Strategies, tactics, or player attributes prevalent in this cluster might be contributing factors to their higher scoring and could be considered best practices worth emulating or analyzing further.\n",
        "\n",
        "- **Cluster 1** follows with an average of **92.750 points**. While not as high as Cluster 0, teams in this cluster still show substantial scoring capabilities. Understanding the differences between Clusters 0 and 1 could reveal actionable insights into what adjustments might bridge the gap in performance.\n",
        "\n",
        "- **Cluster 2** has the lowest mean points, at **78.875**. This indicates that teams in this cluster, on average, score fewer points than those in the other two clusters. Analyzing the characteristics and tactics of Cluster 2 teams might uncover areas for improvement or factors that are hindering higher scoring.\n",
        "\n",
        "### Strategic Implications and Next Steps\n",
        "\n",
        "- **Analyzing High-Performing Clusters**: Dive deeper into the specific characteristics, player stats, or tactics of Cluster 0 to understand what drives their higher scoring. This could involve more detailed statistical analysis, video analysis of games, or reviewing coaching strategies.\n",
        "\n",
        "- **Bridging the Gap**: For teams in Clusters 1 and 2, identify the most significant differences from Cluster 0 and develop strategies to address these gaps. This might involve training focus adjustments, changes in game strategy, or targeted player recruitment.\n",
        "\n",
        "- **Tailored Training Programs**: Develop training programs that focus on enhancing skills or tactics that are correlated with higher scoring, as identified in the analysis of Cluster 0.\n"
      ],
      "metadata": {
        "id": "ZwL9BCx5msRr"
      }
    },
    {
      "cell_type": "code",
      "source": [
        "import matplotlib.pyplot as plt\n",
        "import numpy as np\n",
        "import pandas as pd\n",
        "\n",
        "# Assuming 'cluster_centers' and 'key_features' are defined as before\n",
        "simplified_cluster_centers = cluster_centers[key_features]\n",
        "simplified_cluster_centers['Cluster'] = ['Cluster 0', 'Cluster 1', 'Cluster 2']\n",
        "\n",
        "# Setting the positions and width for the bars\n",
        "positions = np.arange(len(simplified_cluster_centers['Cluster']))\n",
        "width = 0.2  # the width of the bars\n",
        "\n",
        "# Plotting each key feature\n",
        "fig, ax = plt.subplots(figsize=(10, 6))\n",
        "for i, feature in enumerate(key_features):\n",
        "    ax.bar(positions + i * width, simplified_cluster_centers[feature], width, label=feature)\n",
        "\n",
        "# Adding some text for labels, title, and custom x-axis tick labels, etc.\n",
        "ax.set_xlabel('Cluster')\n",
        "ax.set_ylabel('Mean Feature Value')\n",
        "ax.set_title('Mean Feature Values by Cluster')\n",
        "ax.set_xticks(positions + width / 2)\n",
        "ax.set_xticklabels(simplified_cluster_centers['Cluster'])\n",
        "ax.legend(title=\"Feature\")\n",
        "\n",
        "# Improving layout\n",
        "plt.tight_layout()\n",
        "\n",
        "# Display the plot\n",
        "plt.show()\n"
      ],
      "metadata": {
        "colab": {
          "base_uri": "https://localhost:8080/",
          "height": 746
        },
        "id": "ToySUGx6n0nQ",
        "outputId": "0f8775f9-e8f9-492f-c4fe-ae812e28836e"
      },
      "execution_count": 49,
      "outputs": [
        {
          "output_type": "stream",
          "name": "stderr",
          "text": [
            "<ipython-input-49-f7484e43c2f0>:7: SettingWithCopyWarning:\n",
            "\n",
            "\n",
            "A value is trying to be set on a copy of a slice from a DataFrame.\n",
            "Try using .loc[row_indexer,col_indexer] = value instead\n",
            "\n",
            "See the caveats in the documentation: https://pandas.pydata.org/pandas-docs/stable/user_guide/indexing.html#returning-a-view-versus-a-copy\n",
            "\n"
          ]
        },
        {
          "output_type": "display_data",
          "data": {
            "text/plain": [
              "<Figure size 1000x600 with 1 Axes>"
            ],
            "image/png": "[encoded data removed]"
          },
          "metadata": {}
        }
      ]
    },
    {
      "cell_type": "markdown",
      "source": [
        "# **Graph Overview**\n",
        "\n",
        "The graph is a grouped bar chart with the following characteristics:\n",
        "\n",
        "- **X-axis (Clusters):** Represents different clusters, likely derived from a clustering algorithm like K-Means. Each cluster is a grouping of teams based on similarities across various statistical measures. The clusters are labeled (e.g., Cluster 0, Cluster 1, Cluster 2), indicating distinct groupings identified in the analysis.\n",
        "\n",
        "- **Y-axis (Mean Feature Value):** Shows the average value of the selected key features (Touchdowns, Yards Gained, Sacks, Points) for teams within each cluster. These mean values are indicative of the performance characteristics that differentiate the clusters.\n",
        "\n",
        "- **Bars:** Each cluster has a set of bars, with each bar representing one of the key features. The height of a bar corresponds to the mean value of that feature within the cluster.\n",
        "\n",
        "- **Colors:** Bars are color-coded by feature to easily distinguish between the different statistical measures (e.g., a specific color for Touchdowns, another for Yards Gained, etc.).\n",
        "\n",
        "# **Interpreting the Graph**\n",
        "\n",
        "- **Comparing Clusters on Key Metrics:** The graph allows for a straightforward comparison of how each cluster performs on average across the selected key metrics. For example, a cluster with notably higher bars for Touchdowns and Points might be characterized by strong offensive performance.\n",
        "\n",
        "- **Identifying Strengths and Weaknesses:** By examining the height of bars for different features within a cluster, one can identify areas of strength and potential weaknesses. A cluster with high Sacks but lower Yards Gained might indicate teams with strong defensive capabilities but less effective offense.\n",
        "\n",
        "- **Strategic Insights:** The visualization aids in translating statistical analysis into actionable insights. For instance, if Cluster 0 has the highest average Points, strategies and practices common among teams in this cluster could serve as models for teams aiming to enhance their scoring capabilities.\n"
      ],
      "metadata": {
        "id": "cV7sayL-oavy"
      }
    },
    {
      "cell_type": "code",
      "source": [
        "# Identify NaN columns in features\n",
        "nan_columns_x = [col for col in X.columns if X[col].isnull().any()]\n",
        "\n",
        "# Identify if the target variable has NaN\n",
        "nan_in_y = y.isnull().any()\n",
        "\n",
        "print(\"Features with NaN:\", nan_columns_x)\n",
        "print(\"NaN in target variable:\", nan_in_y)\n"
      ],
      "metadata": {
        "colab": {
          "base_uri": "https://localhost:8080/"
        },
        "id": "QTi2B1at12pv",
        "outputId": "cb6876e9-5641-4098-ec8b-ef6eebaff201"
      },
      "execution_count": 56,
      "outputs": [
        {
          "output_type": "stream",
          "name": "stdout",
          "text": [
            "Features with NaN: ['Year', 'Int', 'Avg', 'Lg', 'Solo', 'Ast', 'Tot', 'YdsL', 'Year_kick-off statistics', 'Num', 'Yds_kick-off statistics', 'Avg_kick-off statistics', 'Lg_kick-off statistics', 'TB', 'OB', 'Ret', 'RYds', 'TD_kick-off statistics', 'Year_kick-off return', 'Num_kick-off return', 'Yds_kick-off return', 'Avg_kick-off return', 'FC', 'Lg_kick-off return', 'TD_kick-off return', 'Year_RECEIVING', 'Rec', 'Yds_RECEIVING', 'Avg_RECEIVING', 'Lg_RECEIVING', 'TD_RECEIVING', 'Year_Kicking', 'PAT_Made', 'PAT_Att', 'FG_Made', 'FG_Att', 'Lg_Kicking', 'Year_Punting', 'Punts', 'Yds_Punting', 'Avg_Punting', 'Lg_Punting', 'TB_Punting', 'In20', 'Blk', 'Net', 'Ret_Punting', 'RYds_Punting', 'Year_Punt_Return', 'Num_Punt_Return', 'Yds_Punt_Return', 'Avg_Punt_Return', 'FC_Punt_Return', 'Lg_Punt_Return', 'TD_Punt_Return', 'Year_Scoring', 'Pts_Scoring', 'Tot_Scoring', 'PAT_Made_Scoring', 'PAT_Att_Scoring', 'FG_Made_Scoring', 'FG_Att_Scoring', 'Year_Rushing', 'Att', 'Gain', 'Loss', 'Yds_Rushing', 'Avg_Rushing', 'Lg_Rushing', 'TD_Rushing', 'Composite_Score']\n",
            "NaN in target variable: True\n"
          ]
        }
      ]
    },
    {
      "cell_type": "code",
      "source": [
        "from sklearn.impute import SimpleImputer\n",
        "import numpy as np\n",
        "\n",
        "# Impute missing values in features\n",
        "imputer_X = SimpleImputer(missing_values=np.nan, strategy='mean')\n",
        "X_imputed = imputer_X.fit_transform(X)  # Assuming X is your features matrix\n"
      ],
      "metadata": {
        "id": "55JZnz-Q3cRo"
      },
      "execution_count": 57,
      "outputs": []
    },
    {
      "cell_type": "code",
      "source": [
        "# Impute missing values in the target variable\n",
        "imputer_y = SimpleImputer(missing_values=np.nan, strategy='mean')\n",
        "y_reshaped = y.values.reshape(-1, 1)  # Reshape y to 2D for imputation\n",
        "y_imputed = imputer_y.fit_transform(y_reshaped)\n",
        "y_imputed = y_imputed.ravel()  # Flatten back to original shape\n"
      ],
      "metadata": {
        "id": "-nOpXiXJ3jSK"
      },
      "execution_count": 58,
      "outputs": []
    },
    {
      "cell_type": "code",
      "source": [
        "from sklearn.model_selection import train_test_split\n",
        "from sklearn.ensemble import RandomForestRegressor\n",
        "from sklearn.metrics import mean_absolute_error\n",
        "\n",
        "# Split the dataset into training and testing sets\n",
        "X_train, X_test, y_train, y_test = train_test_split(X_imputed, y_imputed, test_size=0.2, random_state=42)\n",
        "\n",
        "# Initialize and train the RandomForestRegressor model\n",
        "model = RandomForestRegressor(n_estimators=100, random_state=42)\n",
        "model.fit(X_train, y_train)\n",
        "\n",
        "# Predict on the test set and evaluate the model\n",
        "predictions = model.predict(X_test)\n",
        "mae = mean_absolute_error(y_test, predictions)\n",
        "print(f\"Mean Absolute Error: {mae}\")\n"
      ],
      "metadata": {
        "colab": {
          "base_uri": "https://localhost:8080/"
        },
        "id": "qm4_VGG53l3x",
        "outputId": "f76d8f30-1f49-4871-9526-13664fc5e4d5"
      },
      "execution_count": 59,
      "outputs": [
        {
          "output_type": "stream",
          "name": "stdout",
          "text": [
            "Mean Absolute Error: 2.838316666666702\n"
          ]
        }
      ]
    },
    {
      "cell_type": "code",
      "source": [
        "# Assuming 'X_imputed' is your complete features matrix after imputation\n",
        "\n",
        "# Use the trained model to predict performances for the entire dataset\n",
        "all_predictions = model.predict(X_imputed)\n",
        "\n",
        "# Add the predictions back to the original DataFrame\n",
        "merged_df['Predicted_Performance'] = all_predictions\n",
        "\n",
        "# Rank teams based on the predicted performance, in descending order\n",
        "ranked_teams = merged_df[['Team', 'Predicted_Performance']].sort_values(by='Predicted_Performance', ascending=False).reset_index(drop=True)\n",
        "\n",
        "# Display the top N ranked teams based on predicted performance\n",
        "top_n = 10  # You can adjust this number to display more or fewer teams\n",
        "print(\"Top Ranked Teams Based on Predicted Performance:\")\n",
        "print(ranked_teams.head(top_n))\n"
      ],
      "metadata": {
        "colab": {
          "base_uri": "https://localhost:8080/"
        },
        "id": "oUUVGU7T4CeE",
        "outputId": "e1fafbae-93db-41e1-93c0-58ae706e68bc"
      },
      "execution_count": 60,
      "outputs": [
        {
          "output_type": "stream",
          "name": "stdout",
          "text": [
            "Top Ranked Teams Based on Predicted Performance:\n",
            "   Team  Predicted_Performance\n",
            "0  STAN             103.207750\n",
            "1  AZST             102.825667\n",
            "2  UTAH             102.037583\n",
            "3   ORE              99.181000\n",
            "4  ARIZ              95.637667\n",
            "5  WASH              94.696583\n",
            "6   USC              93.879417\n",
            "7  SCAR              92.672250\n",
            "8  MSST              92.653833\n",
            "9   ALA              92.620417\n"
          ]
        }
      ]
    }
  ]
}